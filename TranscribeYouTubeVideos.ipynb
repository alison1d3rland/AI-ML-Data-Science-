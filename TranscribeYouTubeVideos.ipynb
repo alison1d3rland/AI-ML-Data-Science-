{
  "cells": [
    {
      "cell_type": "markdown",
      "metadata": {
        "id": "view-in-github",
        "colab_type": "text"
      },
      "source": [
        "<a href=\"https://colab.research.google.com/github/alison1d3rland/AI-ML-Data-Science-/blob/main/TranscribeYouTubeVideos.ipynb\" target=\"_parent\"><img src=\"https://colab.research.google.com/assets/colab-badge.svg\" alt=\"Open In Colab\"/></a>"
      ]
    },
    {
      "cell_type": "code",
      "execution_count": null,
      "metadata": {
        "colab": {
          "base_uri": "https://localhost:8080/"
        },
        "id": "BxLNTzzmoTWr",
        "outputId": "0ac02a34-c9a5-4747-e7be-84d152e64a3c"
      },
      "outputs": [
        {
          "output_type": "stream",
          "name": "stdout",
          "text": [
            "Looking in indexes: https://pypi.org/simple, https://us-python.pkg.dev/colab-wheels/public/simple/\n",
            "Collecting git+https://github.com/openai/whisper.git\n",
            "  Cloning https://github.com/openai/whisper.git to /tmp/pip-req-build-sjyvc7_1\n",
            "  Running command git clone --filter=blob:none --quiet https://github.com/openai/whisper.git /tmp/pip-req-build-sjyvc7_1\n",
            "  Resolved https://github.com/openai/whisper.git to commit ea1c266709125f68a89acdc0c6ddbde6773eb0ed\n",
            "  Preparing metadata (setup.py) ... \u001b[?25l\u001b[?25hdone\n",
            "Requirement already satisfied: numpy in /usr/local/lib/python3.8/dist-packages (from openai-whisper==20230117) (1.21.6)\n",
            "Requirement already satisfied: torch in /usr/local/lib/python3.8/dist-packages (from openai-whisper==20230117) (1.13.1+cu116)\n",
            "Requirement already satisfied: tqdm in /usr/local/lib/python3.8/dist-packages (from openai-whisper==20230117) (4.64.1)\n",
            "Requirement already satisfied: more-itertools in /usr/local/lib/python3.8/dist-packages (from openai-whisper==20230117) (9.0.0)\n",
            "Collecting transformers>=4.19.0\n",
            "  Downloading transformers-4.25.1-py3-none-any.whl (5.8 MB)\n",
            "\u001b[2K     \u001b[90m━━━━━━━━━━━━━━━━━━━━━━━━━━━━━━━━━━━━━━━━\u001b[0m \u001b[32m5.8/5.8 MB\u001b[0m \u001b[31m32.3 MB/s\u001b[0m eta \u001b[36m0:00:00\u001b[0m\n",
            "\u001b[?25hCollecting ffmpeg-python==0.2.0\n",
            "  Downloading ffmpeg_python-0.2.0-py3-none-any.whl (25 kB)\n",
            "Requirement already satisfied: future in /usr/local/lib/python3.8/dist-packages (from ffmpeg-python==0.2.0->openai-whisper==20230117) (0.16.0)\n",
            "Requirement already satisfied: requests in /usr/local/lib/python3.8/dist-packages (from transformers>=4.19.0->openai-whisper==20230117) (2.25.1)\n",
            "Requirement already satisfied: filelock in /usr/local/lib/python3.8/dist-packages (from transformers>=4.19.0->openai-whisper==20230117) (3.9.0)\n",
            "Requirement already satisfied: regex!=2019.12.17 in /usr/local/lib/python3.8/dist-packages (from transformers>=4.19.0->openai-whisper==20230117) (2022.6.2)\n",
            "Collecting huggingface-hub<1.0,>=0.10.0\n",
            "  Downloading huggingface_hub-0.11.1-py3-none-any.whl (182 kB)\n",
            "\u001b[2K     \u001b[90m━━━━━━━━━━━━━━━━━━━━━━━━━━━━━━━━━━━━━━\u001b[0m \u001b[32m182.4/182.4 KB\u001b[0m \u001b[31m11.4 MB/s\u001b[0m eta \u001b[36m0:00:00\u001b[0m\n",
            "\u001b[?25hCollecting tokenizers!=0.11.3,<0.14,>=0.11.1\n",
            "  Downloading tokenizers-0.13.2-cp38-cp38-manylinux_2_17_x86_64.manylinux2014_x86_64.whl (7.6 MB)\n",
            "\u001b[2K     \u001b[90m━━━━━━━━━━━━━━━━━━━━━━━━━━━━━━━━━━━━━━━━\u001b[0m \u001b[32m7.6/7.6 MB\u001b[0m \u001b[31m58.8 MB/s\u001b[0m eta \u001b[36m0:00:00\u001b[0m\n",
            "\u001b[?25hRequirement already satisfied: pyyaml>=5.1 in /usr/local/lib/python3.8/dist-packages (from transformers>=4.19.0->openai-whisper==20230117) (6.0)\n",
            "Requirement already satisfied: packaging>=20.0 in /usr/local/lib/python3.8/dist-packages (from transformers>=4.19.0->openai-whisper==20230117) (21.3)\n",
            "Requirement already satisfied: typing-extensions in /usr/local/lib/python3.8/dist-packages (from torch->openai-whisper==20230117) (4.4.0)\n",
            "Requirement already satisfied: pyparsing!=3.0.5,>=2.0.2 in /usr/local/lib/python3.8/dist-packages (from packaging>=20.0->transformers>=4.19.0->openai-whisper==20230117) (3.0.9)\n",
            "Requirement already satisfied: urllib3<1.27,>=1.21.1 in /usr/local/lib/python3.8/dist-packages (from requests->transformers>=4.19.0->openai-whisper==20230117) (1.24.3)\n",
            "Requirement already satisfied: certifi>=2017.4.17 in /usr/local/lib/python3.8/dist-packages (from requests->transformers>=4.19.0->openai-whisper==20230117) (2022.12.7)\n",
            "Requirement already satisfied: idna<3,>=2.5 in /usr/local/lib/python3.8/dist-packages (from requests->transformers>=4.19.0->openai-whisper==20230117) (2.10)\n",
            "Requirement already satisfied: chardet<5,>=3.0.2 in /usr/local/lib/python3.8/dist-packages (from requests->transformers>=4.19.0->openai-whisper==20230117) (4.0.0)\n",
            "Building wheels for collected packages: openai-whisper\n",
            "  Building wheel for openai-whisper (setup.py) ... \u001b[?25l\u001b[?25hdone\n",
            "  Created wheel for openai-whisper: filename=openai_whisper-20230117-py3-none-any.whl size=1178768 sha256=4f843010473eba708643bebe46ad5ba8adcbf32a2e7c57395773f0147c91e556\n",
            "  Stored in directory: /tmp/pip-ephem-wheel-cache-b_5jxvhi/wheels/a7/70/18/b7693c07b1d18b3dafb328f5d0496aa0d41a9c09ef332fd8e6\n",
            "Successfully built openai-whisper\n",
            "Installing collected packages: tokenizers, ffmpeg-python, huggingface-hub, transformers, openai-whisper\n",
            "Successfully installed ffmpeg-python-0.2.0 huggingface-hub-0.11.1 openai-whisper-20230117 tokenizers-0.13.2 transformers-4.25.1\n",
            "Looking in indexes: https://pypi.org/simple, https://us-python.pkg.dev/colab-wheels/public/simple/\n",
            "Collecting pytube\n",
            "  Downloading pytube-12.1.2-py3-none-any.whl (57 kB)\n",
            "\u001b[2K     \u001b[90m━━━━━━━━━━━━━━━━━━━━━━━━━━━━━━━━━━━━━━━━\u001b[0m \u001b[32m57.0/57.0 KB\u001b[0m \u001b[31m3.2 MB/s\u001b[0m eta \u001b[36m0:00:00\u001b[0m\n",
            "\u001b[?25hInstalling collected packages: pytube\n",
            "Successfully installed pytube-12.1.2\n"
          ]
        },
        {
          "output_type": "stream",
          "name": "stderr",
          "text": [
            "100%|█████████████████████████████████████| 1.42G/1.42G [00:35<00:00, 43.4MiB/s]\n",
            "/usr/local/lib/python3.8/dist-packages/whisper/transcribe.py:79: UserWarning: FP16 is not supported on CPU; using FP32 instead\n",
            "  warnings.warn(\"FP16 is not supported on CPU; using FP32 instead\")\n"
          ]
        },
        {
          "output_type": "stream",
          "name": "stdout",
          "text": [
            " If you get hold of two magnets and you push them you can feel this pushing between them. Turn it around the other way and they slam together. Now what is it, the feeling between those two magnets? What do you mean what's the feeling between the two magnets? Well there's something there isn't there? I mean the sensation is that there's something there when you push these two magnets together. Listen to my question. What is the meaning when you say that there's a feeling? Of course you feel it. Now what do you want to know? What I want to know is what's going on between these two bits of metal? The magnets repel each other. Well then what does that mean or why are they doing that or how are they doing it? You're asking... I must say I think that's a perfectly reasonable question. Of course it's a reason, it's an excellent question. But the problem that you're asking, you see when you ask why something happens, how does a person answer why something happens? For example, Aunt Minnie is in a hospital. Why? Because she slipped, she went out and she slipped on the ice and broke her hip. That satisfies it people. It satisfies but it wouldn't satisfy someone who came from another planet and knew nothing about things. So of course you don't understand why when you break your hip you go to the hospital. How do you get to the hospital when the hip is broken? Well because her husband seeing that she had the hip was broken called the hospital up and sent somebody to get her. All that is understood by people. Now when you explain a why, you have to be in some framework that you allow something to be true. Otherwise you're perpetually asking why. Why did the husband call up the hospital? His husband is interested in his wife's welfare. Not always, some husbands aren't interested in their wives welfare when they're drunk and they're angry. And so you begin to get a very interesting understanding of the world and all its complications. If you try to follow anything up, you go deeper and deeper in various directions. For example, you could go, why did she slip on the ice? Well ice is slippery. Everybody knows that, no problem. But you ask why is ice slippery? That's kind of curious. Ice is extremely slippery. It's very interesting. You say, how does it work? You could either say, I'm satisfied that you've asked me, ice is slippery, that explains it. Or you could go on and say, why is ice slippery? And then you're involved with something because there aren't many things as slippery as ice. It's very hard to get. Greasy stuff, but that's sort of wet and slimy. But a solid that's so slippery, because it is in the case of ice that when you stand on it, they say, momentarily the pressure melts the ice a little bit so you got a sort of instantaneous water surface on which you're slipping. Why on ice and not on other things? Because ice expands, water expands when it freezes, so the pressure tries to undo the expansion and melts it. It's capable of melting it. But other substances contract when they're freezing and when you push them, they're just as satisfied to be solid. Why does water expand when it freezes and other substances don't expand when they freeze? All right? I'm not answering your question, but I'm telling you how difficult the why question is. You have to know what it is that you're permitted to understand and allow to be understood and known and what it is you're not. You'll notice in this example that the more I ask why, it gets interesting after. That's my idea that the deeper the thing is, the more interesting it is. And we could even go further and say, why did she fall down when she slipped? That has to do with gravity. It involves all the planets and everything else. Never mind. It goes on and on. Now when you ask, for example, why do magnets repel, there are many different levels. It depends on whether you're a student of physics or an ordinary person that doesn't know anything or not. If you're somebody who doesn't know anything at all about it, all I can say is that there's a magnetic force that makes them repel and that you're feeling that force. And you say, but that's very strange because I don't feel kind of force like that in other circumstances. When you turn them the other way, they attract. There's a very analogous force, electrical force, which is the same kind of a question. And you say, that's also very weird. But you're not at all disturbed by the fact that when you put your hand on the chair, it pushes you back. But we found out by looking at it that that's the same force as a matter of fact, the electrical force, not magnetic exactly in that case. But it's the same electrical repulsions that are involved in keeping your finger away from the chair because everything's made out of its electrical forces in minor and microscopic details. There's other forces involved because it's connected to electrical forces. It turns out that the magnetic and the electric force with which I wish to explain these things, this repulsion in the first place, is what ultimately is the deeper thing that we can start with to explain many other things that looked like they were, everybody would just accept them. You know you can't put your hand through the chair. That's taken for granted. But that you can't put your hand through the chair when looked at more closely, why, that involves these same repulsive forces that appear in magnets. The situation you then have to explain is why in magnets it goes over a bigger distance than an ordinary. And there it has to do with the fact that in iron all the electrons are spinning in the same direction. They all get lined up and they magnify the effect of the force until it's large enough at a distance that you can feel it. But it's a force which is present all the time and very common and is in a basic force of almost, I mean I can go a little further back if I were more technical, but in the early level I have just got to have to tell you that's going to be one of the things you'll just have to take as an element in the world, the existence of magnetic repulsion or electrical attraction, magnetic attraction. I can't explain that attraction in terms of anything else that's familiar to you. For example if we say the magnets attract like as if they were connected by rubber bands I would be cheating you because they're not connected by rubber bands. I shouldn't be in trouble. You soon asked me about the nature of the bands. And secondly if you were curious enough you'd ask me why rubber bands tend to pull back together again and I would end up explaining that in terms of electrical forces which are the very things that I'm trying to use the rubber bands to explain so I have cheated very badly you see. So I'm not going to be able to give you an answer to why magnets attract each other except to tell you that they do and to tell you that that's one of the elements in the world of different kinds of forces there are electrical forces, magnetic forces, gravitational forces and others and those are some of the parts. If you were a student you'd go further I could go further I could tell you that the magnetic forces are related to the electrical forces very intimately that our relationship between the gravity forces and electrical forces remains unknown and so on. But I really can't do a good job, any job of explaining magnetic force in terms of something else that you're more familiar with because I don't understand it in terms of anything else that you're more familiar with.\n"
          ]
        }
      ],
      "source": [
        "!pip install git+https://github.com/openai/whisper.git\n",
        "!pip install pytube\n",
        "# import the necessary packages\n",
        "import pytube as pt\n",
        "import whisper\n",
        "\n",
        "yt = pt.YouTube(\"https://www.youtube.com/watch?v=Dp4dpeJVDxs\")\n",
        "\n",
        "stream = yt.streams.filter(only_audio=True)[0]\n",
        "stream.download(filename=\"audio.mp3\")\n",
        "# load the model\n",
        "model = whisper.load_model(\"medium\")\n",
        "# transcribe the audio file\n",
        "result = model.transcribe(\"audio.mp3\")\n",
        "# print the text extracted from the video\n",
        "print(result[\"text\"])"
      ]
    },
    {
      "cell_type": "code",
      "source": [
        "!pip install openwhisper\n",
        "import openwhisper\n",
        "# import whisper\n",
        "\n",
        "# Set the video URL\n",
        "video_url = \"https://vt.tiktok.com/ZS8MJggtQ/\"\n",
        "\n",
        "# Fetch the video and transcribe it\n",
        "video = openwhisper.fetch_video(video_url)\n",
        "transcription = openwhisper.transcribe(video)\n",
        "\n",
        "print(transcription)\n"
      ],
      "metadata": {
        "id": "vQB4UfSOgCu-"
      },
      "execution_count": null,
      "outputs": []
    },
    {
      "cell_type": "code",
      "source": [
        "!pip install git+https://github.com/openai/whisper.git\n",
        "import whisper\n",
        "!whisper \"https://vt.tiktok.com/ZS8MJggtQ/\" --model medium --language English"
      ],
      "metadata": {
        "id": "cVoMaHxocfPM"
      },
      "execution_count": null,
      "outputs": []
    },
    {
      "cell_type": "code",
      "execution_count": null,
      "metadata": {
        "id": "2f93bfq7jCg2"
      },
      "outputs": [],
      "source": [
        "# https://github.com/openai/whisper\n",
        "!pip install git+https://github.com/openai/whisper.git\n",
        "import whisper\n",
        "!whisper \"/content/How ChatGPT Works.m4a\" --model medium --language English"
      ]
    },
    {
      "cell_type": "code",
      "source": [
        "!whisper \"/content/Beat AI Detectors.m4a\" --model medium --language English"
      ],
      "metadata": {
        "id": "CIeimGkimJ17"
      },
      "execution_count": null,
      "outputs": []
    },
    {
      "cell_type": "code",
      "source": [],
      "metadata": {
        "id": "paOA_TjUsq3e"
      },
      "execution_count": null,
      "outputs": []
    },
    {
      "cell_type": "code",
      "source": [],
      "metadata": {
        "id": "WkciP7EnmJyw"
      },
      "execution_count": null,
      "outputs": []
    },
    {
      "cell_type": "code",
      "source": [],
      "metadata": {
        "id": "u6gcMw_emJwI"
      },
      "execution_count": null,
      "outputs": []
    },
    {
      "cell_type": "code",
      "source": [],
      "metadata": {
        "id": "OC1uplcMmJlh"
      },
      "execution_count": null,
      "outputs": []
    },
    {
      "cell_type": "code",
      "execution_count": null,
      "metadata": {
        "id": "J8znTd5_gKlL"
      },
      "outputs": [],
      "source": [
        "!pip install SpeechRecognition pydub\n",
        "# https://cloudconvert.com/\n",
        "import speech_recognition as sr\n",
        "filename = \"/content/ErinM.wav\"\n",
        "# initialize the recognizer\n",
        "r = sr.Recognizer()\n",
        "# open the file\n",
        "with sr.AudioFile(filename) as source:\n",
        "    # listen for the data (load audio to memory)\n",
        "    audio_data = r.record(source)\n",
        "    # recognize (convert from speech to text)\n",
        "    text = r.recognize_google(audio_data)\n",
        "    print(text)\n",
        "\n"
      ]
    },
    {
      "cell_type": "code",
      "execution_count": null,
      "metadata": {
        "id": "dXnhz1qxhpNg"
      },
      "outputs": [],
      "source": [
        "# importing libraries\n",
        "import speech_recognition as sr\n",
        "import os\n",
        "from pydub import AudioSegment\n",
        "from pydub.silence import split_on_silence\n",
        "\n",
        "# create a speech recognition object\n",
        "r = sr.Recognizer()\n",
        "\n",
        "# a function that splits the audio file into chunks\n",
        "# and applies speech recognition\n",
        "def get_large_audio_transcription(path):\n",
        "    \"\"\"\n",
        "    Splitting the large audio file into chunks\n",
        "    and apply speech recognition on each of these chunks\n",
        "    \"\"\"\n",
        "    # open the audio file using pydub\n",
        "    sound = AudioSegment.from_wav(path)\n",
        "    # split audio sound where silence is 700 miliseconds or more and get chunks\n",
        "    chunks = split_on_silence(sound,\n",
        "        # experiment with this value for your target audio file\n",
        "        min_silence_len = 500,\n",
        "        # adjust this per requirement\n",
        "        silence_thresh = sound.dBFS-14,\n",
        "        # keep the silence for 1 second, adjustable as well\n",
        "        keep_silence=500,\n",
        "    )\n",
        "    folder_name = \"audio-chunks\"\n",
        "    # create a directory to store the audio chunks\n",
        "    if not os.path.isdir(folder_name):\n",
        "        os.mkdir(folder_name)\n",
        "    whole_text = \"\"\n",
        "    # process each chunk\n",
        "    for i, audio_chunk in enumerate(chunks, start=1):\n",
        "        # export audio chunk and save it in\n",
        "        # the `folder_name` directory.\n",
        "        chunk_filename = os.path.join(folder_name, f\"chunk{i}.wav\")\n",
        "        audio_chunk.export(chunk_filename, format=\"wav\")\n",
        "        # recognize the chunk\n",
        "        with sr.AudioFile(chunk_filename) as source:\n",
        "            audio_listened = r.record(source)\n",
        "            # try converting it to text\n",
        "            try:\n",
        "                text = r.recognize_google(audio_listened)\n",
        "            except sr.UnknownValueError as e:\n",
        "                print(\"Error:\", str(e))\n",
        "            else:\n",
        "                text = f\"{text.capitalize()}. \"\n",
        "                print(chunk_filename, \":\", text)\n",
        "                whole_text += text\n",
        "    # return the text for all chunks detected\n",
        "    return whole_text"
      ]
    }
  ],
  "metadata": {
    "colab": {
      "provenance": [],
      "include_colab_link": true
    },
    "kernelspec": {
      "display_name": "Python 3",
      "name": "python3"
    },
    "language_info": {
      "name": "python"
    }
  },
  "nbformat": 4,
  "nbformat_minor": 0
}