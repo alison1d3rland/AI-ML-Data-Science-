{
  "nbformat": 4,
  "nbformat_minor": 0,
  "metadata": {
    "colab": {
      "provenance": [],
      "include_colab_link": true
    },
    "kernelspec": {
      "name": "python3",
      "display_name": "Python 3"
    },
    "language_info": {
      "name": "python"
    }
  },
  "cells": [
    {
      "cell_type": "markdown",
      "metadata": {
        "id": "view-in-github",
        "colab_type": "text"
      },
      "source": [
        "<a href=\"https://colab.research.google.com/github/alison1d3rland/AI-ML-Data-Science-/blob/main/PracticalDataMiningWithTwitter.ipynb\" target=\"_parent\"><img src=\"https://colab.research.google.com/assets/colab-badge.svg\" alt=\"Open In Colab\"/></a>"
      ]
    },
    {
      "cell_type": "code",
      "execution_count": null,
      "metadata": {
        "id": "08Vub_-gbC5e"
      },
      "outputs": [],
      "source": [
        "!pip install tweepy\n",
        "!pip install tweepy --upgrade\n",
        "!pip install better_profanity\n",
        "import tweepy\n",
        "client = tweepy.Client(bearer_token='AAAAAAAAAAAAAAAAAAAAADRyiwEAAAAAVyAignb%2BpcKAU5rCs%2BAI5Q45Vyk%3DIC8kWmSHu9dkNW8j2PGBs2DpSkMiKmBFkoE7S6WcaprBHhIfil')"
      ]
    },
    {
      "cell_type": "code",
      "source": [
        "import tweepy\n",
        "\n",
        "your_query = \"Miami Heat\"\n",
        "query = your_query + ' -is:retweet'\n",
        "\n",
        "tweets = client.search_recent_tweets(query=query, tweet_fields=['context_annotations', 'created_at'], max_results=100)\n",
        "\n",
        "for tweet in tweets.data:\n",
        "    print(tweet.text)\n",
        "    if len(tweet.context_annotations) > 0:\n",
        "        print(tweet.context_annotations)"
      ],
      "metadata": {
        "id": "4pSB0I2figiO"
      },
      "execution_count": null,
      "outputs": []
    },
    {
      "cell_type": "code",
      "source": [
        "# Replace with your own search query\n",
        "query = 'covid -is:retweet'\n",
        "\n",
        "# Replace the limit=1000 with the maximum number of Tweets you want\n",
        "for tweet in tweepy.Paginator(client.search_recent_tweets, query=query,\n",
        "                              tweet_fields=['context_annotations', 'created_at'], max_results=100).flatten(limit=1000):\n",
        "    print(tweet.id)"
      ],
      "metadata": {
        "id": "Gz1GnssenbDB"
      },
      "execution_count": null,
      "outputs": []
    },
    {
      "cell_type": "code",
      "source": [
        "# Replace with your own search query\n",
        "query = 'covid -is:retweet'\n",
        "\n",
        "# Name and path of the file where you want the Tweets written to\n",
        "file_name = 'tweets.txt'\n",
        "\n",
        "with open(file_name, 'a+') as filehandle:\n",
        "    for tweet in tweepy.Paginator(client.search_recent_tweets, query=query,\n",
        "                                  tweet_fields=['context_annotations', 'created_at'], max_results=100).flatten(\n",
        "            limit=1000):\n",
        "        filehandle.write('%s\\n' % tweet.id)"
      ],
      "metadata": {
        "id": "7WsvB7h6n0wG"
      },
      "execution_count": null,
      "outputs": []
    },
    {
      "cell_type": "code",
      "source": [
        "query = 'Miami+Heat -is:retweet'\n",
        "\n",
        "tweets = client.search_recent_tweets(query=query, tweet_fields=['context_annotations', 'created_at'],\n",
        "                                     user_fields=['profile_image_url'], expansions='author_id', max_results=100)\n",
        "\n",
        "# Get users list from the includes object\n",
        "users = {u[\"id\"]: u for u in tweets.includes['users']}\n",
        "\n",
        "for tweet in tweets.data:\n",
        "    if users[tweet.author_id]:\n",
        "        user = users[tweet.author_id]\n",
        "        print(user.profile_image_url)"
      ],
      "metadata": {
        "id": "JerLsJq2oII0"
      },
      "execution_count": null,
      "outputs": []
    },
    {
      "cell_type": "code",
      "source": [
        "!pip install better_profanity"
      ],
      "metadata": {
        "id": "6jna4U558yOx"
      },
      "execution_count": null,
      "outputs": []
    },
    {
      "cell_type": "markdown",
      "source": [
        "# **Twitter Sentiment Analysis through Data Mining**"
      ],
      "metadata": {
        "id": "ZkH3cu3hpD74"
      }
    },
    {
      "cell_type": "code",
      "source": [
        "import re\n",
        "\n",
        "import numpy as np\n",
        "\n",
        "import tweepy\n",
        "\n",
        "from tweepy import OAuthHandler\n",
        "\n",
        "from textblob import TextBlob\n",
        "\n",
        "import matplotlib.pyplot as plt\n",
        "\n",
        "import pandas as pd\n",
        "\n",
        "from wordcloud import WordCloud\n",
        "\n",
        "from better_profanity import profanity"
      ],
      "metadata": {
        "id": "kV82QR4HoX_H"
      },
      "execution_count": null,
      "outputs": []
    },
    {
      "cell_type": "code",
      "source": [
        "your_query = input(\"Please enter your topic / person of interest: \")\n",
        "# your_query = \"Ukraine\"\n",
        "query = your_query + ' -is:retweet'\n",
        "# get tweets from the API\n",
        "tweets = client.search_recent_tweets(query=query,\n",
        "                                     tweet_fields = [\"created_at\", \"text\", \"source\"],\n",
        "                                     user_fields = [\"name\", \"username\", \"location\", \"verified\", \"description\"],\n",
        "                                     max_results = 100,\n",
        "                                     expansions='author_id'\n",
        "                                     )\n",
        "print(type(tweets))"
      ],
      "metadata": {
        "id": "075yPhaYpKky",
        "colab": {
          "base_uri": "https://localhost:8080/"
        },
        "outputId": "02cad96a-eb07-43c5-aaec-f5e01d3f8146"
      },
      "execution_count": null,
      "outputs": [
        {
          "output_type": "stream",
          "name": "stdout",
          "text": [
            "Please enter your topic / person of interest: Electric Cars\n",
            "<class 'tweepy.client.Response'>\n"
          ]
        }
      ]
    },
    {
      "cell_type": "code",
      "source": [
        "# import the pandas library\n",
        "import pandas as pd\n",
        "# create a list of records\n",
        "tweet_info_ls = []\n",
        "# iterate over each tweet and corresponding user details\n",
        "for tweet, user in zip(tweets.data, tweets.includes['users']):\n",
        "    tweet_info = {\n",
        "        'created_at': tweet.created_at,\n",
        "        'text': tweet.text,\n",
        "        'source': tweet.source,\n",
        "        'name': user.name,\n",
        "        'username': user.username,\n",
        "        'location': user.location,\n",
        "        'verified': user.verified,\n",
        "        'description': user.description\n",
        "    }\n",
        "    tweet_info_ls.append(tweet_info)\n",
        "# create dataframe from the extracted records\n",
        "tweets_df = pd.DataFrame(tweet_info_ls)\n",
        "# display the dataframe\n",
        "tweets_df.head()"
      ],
      "metadata": {
        "colab": {
          "base_uri": "https://localhost:8080/",
          "height": 337
        },
        "id": "iCo0xyNgqWRc",
        "outputId": "3e6a8d44-608e-4196-bbea-015c508e5f2b"
      },
      "execution_count": null,
      "outputs": [
        {
          "output_type": "execute_result",
          "data": {
            "text/plain": [
              "                 created_at  \\\n",
              "0 2023-02-06 15:50:41+00:00   \n",
              "1 2023-02-06 15:49:17+00:00   \n",
              "2 2023-02-06 15:49:03+00:00   \n",
              "3 2023-02-06 15:48:51+00:00   \n",
              "4 2023-02-06 15:48:25+00:00   \n",
              "\n",
              "                                                text source            name  \\\n",
              "0  I just entered @AutoTrader_UK’s monthly️ #Elec...   None  Andrew Mansell   \n",
              "1  @sciam Or perhaps don’t require all cars to be...   None  TenaciousHoney   \n",
              "2  I just entered @AutoTrader_UK’s monthly️ #Elec...   None    true arrow41   \n",
              "3  Tesla is having Nokia moment\\n\\nThere were 16,...   None         King TG   \n",
              "4  Globalist pig... you'd fuck our province over ...   None  Conniving Crow   \n",
              "\n",
              "          username                     location  verified  \\\n",
              "0   Andy_Tommy_Gun                      England     False   \n",
              "1  tenacious_honey                         None     False   \n",
              "2         TArrow41                         None     False   \n",
              "3  King_of_de_East  Dubai, United Arab Emirates     False   \n",
              "4    CrowConniving                         None     False   \n",
              "\n",
              "                                         description  \n",
              "0                                                     \n",
              "1                      I’m sweet but a little spicy.  \n",
              "2                                                     \n",
              "3  forex trader | CEO @Arkfluence ventures | real...  \n",
              "4                                                     "
            ],
            "text/html": [
              "\n",
              "  <div id=\"df-b2927bc3-f2ea-43ac-80d3-fd4a0b8e4975\">\n",
              "    <div class=\"colab-df-container\">\n",
              "      <div>\n",
              "<style scoped>\n",
              "    .dataframe tbody tr th:only-of-type {\n",
              "        vertical-align: middle;\n",
              "    }\n",
              "\n",
              "    .dataframe tbody tr th {\n",
              "        vertical-align: top;\n",
              "    }\n",
              "\n",
              "    .dataframe thead th {\n",
              "        text-align: right;\n",
              "    }\n",
              "</style>\n",
              "<table border=\"1\" class=\"dataframe\">\n",
              "  <thead>\n",
              "    <tr style=\"text-align: right;\">\n",
              "      <th></th>\n",
              "      <th>created_at</th>\n",
              "      <th>text</th>\n",
              "      <th>source</th>\n",
              "      <th>name</th>\n",
              "      <th>username</th>\n",
              "      <th>location</th>\n",
              "      <th>verified</th>\n",
              "      <th>description</th>\n",
              "    </tr>\n",
              "  </thead>\n",
              "  <tbody>\n",
              "    <tr>\n",
              "      <th>0</th>\n",
              "      <td>2023-02-06 15:50:41+00:00</td>\n",
              "      <td>I just entered @AutoTrader_UK’s monthly️ #Elec...</td>\n",
              "      <td>None</td>\n",
              "      <td>Andrew Mansell</td>\n",
              "      <td>Andy_Tommy_Gun</td>\n",
              "      <td>England</td>\n",
              "      <td>False</td>\n",
              "      <td></td>\n",
              "    </tr>\n",
              "    <tr>\n",
              "      <th>1</th>\n",
              "      <td>2023-02-06 15:49:17+00:00</td>\n",
              "      <td>@sciam Or perhaps don’t require all cars to be...</td>\n",
              "      <td>None</td>\n",
              "      <td>TenaciousHoney</td>\n",
              "      <td>tenacious_honey</td>\n",
              "      <td>None</td>\n",
              "      <td>False</td>\n",
              "      <td>I’m sweet but a little spicy.</td>\n",
              "    </tr>\n",
              "    <tr>\n",
              "      <th>2</th>\n",
              "      <td>2023-02-06 15:49:03+00:00</td>\n",
              "      <td>I just entered @AutoTrader_UK’s monthly️ #Elec...</td>\n",
              "      <td>None</td>\n",
              "      <td>true arrow41</td>\n",
              "      <td>TArrow41</td>\n",
              "      <td>None</td>\n",
              "      <td>False</td>\n",
              "      <td></td>\n",
              "    </tr>\n",
              "    <tr>\n",
              "      <th>3</th>\n",
              "      <td>2023-02-06 15:48:51+00:00</td>\n",
              "      <td>Tesla is having Nokia moment\\n\\nThere were 16,...</td>\n",
              "      <td>None</td>\n",
              "      <td>King TG</td>\n",
              "      <td>King_of_de_East</td>\n",
              "      <td>Dubai, United Arab Emirates</td>\n",
              "      <td>False</td>\n",
              "      <td>forex trader | CEO @Arkfluence ventures | real...</td>\n",
              "    </tr>\n",
              "    <tr>\n",
              "      <th>4</th>\n",
              "      <td>2023-02-06 15:48:25+00:00</td>\n",
              "      <td>Globalist pig... you'd fuck our province over ...</td>\n",
              "      <td>None</td>\n",
              "      <td>Conniving Crow</td>\n",
              "      <td>CrowConniving</td>\n",
              "      <td>None</td>\n",
              "      <td>False</td>\n",
              "      <td></td>\n",
              "    </tr>\n",
              "  </tbody>\n",
              "</table>\n",
              "</div>\n",
              "      <button class=\"colab-df-convert\" onclick=\"convertToInteractive('df-b2927bc3-f2ea-43ac-80d3-fd4a0b8e4975')\"\n",
              "              title=\"Convert this dataframe to an interactive table.\"\n",
              "              style=\"display:none;\">\n",
              "        \n",
              "  <svg xmlns=\"http://www.w3.org/2000/svg\" height=\"24px\"viewBox=\"0 0 24 24\"\n",
              "       width=\"24px\">\n",
              "    <path d=\"M0 0h24v24H0V0z\" fill=\"none\"/>\n",
              "    <path d=\"M18.56 5.44l.94 2.06.94-2.06 2.06-.94-2.06-.94-.94-2.06-.94 2.06-2.06.94zm-11 1L8.5 8.5l.94-2.06 2.06-.94-2.06-.94L8.5 2.5l-.94 2.06-2.06.94zm10 10l.94 2.06.94-2.06 2.06-.94-2.06-.94-.94-2.06-.94 2.06-2.06.94z\"/><path d=\"M17.41 7.96l-1.37-1.37c-.4-.4-.92-.59-1.43-.59-.52 0-1.04.2-1.43.59L10.3 9.45l-7.72 7.72c-.78.78-.78 2.05 0 2.83L4 21.41c.39.39.9.59 1.41.59.51 0 1.02-.2 1.41-.59l7.78-7.78 2.81-2.81c.8-.78.8-2.07 0-2.86zM5.41 20L4 18.59l7.72-7.72 1.47 1.35L5.41 20z\"/>\n",
              "  </svg>\n",
              "      </button>\n",
              "      \n",
              "  <style>\n",
              "    .colab-df-container {\n",
              "      display:flex;\n",
              "      flex-wrap:wrap;\n",
              "      gap: 12px;\n",
              "    }\n",
              "\n",
              "    .colab-df-convert {\n",
              "      background-color: #E8F0FE;\n",
              "      border: none;\n",
              "      border-radius: 50%;\n",
              "      cursor: pointer;\n",
              "      display: none;\n",
              "      fill: #1967D2;\n",
              "      height: 32px;\n",
              "      padding: 0 0 0 0;\n",
              "      width: 32px;\n",
              "    }\n",
              "\n",
              "    .colab-df-convert:hover {\n",
              "      background-color: #E2EBFA;\n",
              "      box-shadow: 0px 1px 2px rgba(60, 64, 67, 0.3), 0px 1px 3px 1px rgba(60, 64, 67, 0.15);\n",
              "      fill: #174EA6;\n",
              "    }\n",
              "\n",
              "    [theme=dark] .colab-df-convert {\n",
              "      background-color: #3B4455;\n",
              "      fill: #D2E3FC;\n",
              "    }\n",
              "\n",
              "    [theme=dark] .colab-df-convert:hover {\n",
              "      background-color: #434B5C;\n",
              "      box-shadow: 0px 1px 3px 1px rgba(0, 0, 0, 0.15);\n",
              "      filter: drop-shadow(0px 1px 2px rgba(0, 0, 0, 0.3));\n",
              "      fill: #FFFFFF;\n",
              "    }\n",
              "  </style>\n",
              "\n",
              "      <script>\n",
              "        const buttonEl =\n",
              "          document.querySelector('#df-b2927bc3-f2ea-43ac-80d3-fd4a0b8e4975 button.colab-df-convert');\n",
              "        buttonEl.style.display =\n",
              "          google.colab.kernel.accessAllowed ? 'block' : 'none';\n",
              "\n",
              "        async function convertToInteractive(key) {\n",
              "          const element = document.querySelector('#df-b2927bc3-f2ea-43ac-80d3-fd4a0b8e4975');\n",
              "          const dataTable =\n",
              "            await google.colab.kernel.invokeFunction('convertToInteractive',\n",
              "                                                     [key], {});\n",
              "          if (!dataTable) return;\n",
              "\n",
              "          const docLinkHtml = 'Like what you see? Visit the ' +\n",
              "            '<a target=\"_blank\" href=https://colab.research.google.com/notebooks/data_table.ipynb>data table notebook</a>'\n",
              "            + ' to learn more about interactive tables.';\n",
              "          element.innerHTML = '';\n",
              "          dataTable['output_type'] = 'display_data';\n",
              "          await google.colab.output.renderOutput(dataTable, element);\n",
              "          const docLink = document.createElement('div');\n",
              "          docLink.innerHTML = docLinkHtml;\n",
              "          element.appendChild(docLink);\n",
              "        }\n",
              "      </script>\n",
              "    </div>\n",
              "  </div>\n",
              "  "
            ]
          },
          "metadata": {},
          "execution_count": 27
        }
      ]
    },
    {
      "cell_type": "code",
      "source": [
        "# import the pandas library\n",
        "import pandas as pd\n",
        "# create a list of records\n",
        "tweet_info_ls = []\n",
        "# iterate over each tweet and corresponding user details\n",
        "for tweet, user in zip(tweets.data, tweets.includes['users']):\n",
        "    tweet_info = {\n",
        "        'text': tweet.text,\n",
        "        'username': user.username,\n",
        "        'location': user.location,\n",
        "    }\n",
        "    tweet_info_ls.append(tweet_info)\n",
        "# create dataframe from the extracted records\n",
        "tweets_df = pd.DataFrame(tweet_info_ls)\n",
        "# display the dataframe\n",
        "tweets_df.tail()"
      ],
      "metadata": {
        "colab": {
          "base_uri": "https://localhost:8080/",
          "height": 206
        },
        "id": "9qUxKNqJrW1k",
        "outputId": "83a6c530-845f-40c3-dd51-763d190843ef"
      },
      "execution_count": null,
      "outputs": [
        {
          "output_type": "execute_result",
          "data": {
            "text/plain": [
              "                                                 text         username  \\\n",
              "92  Tesla’s delays allowed traditional carmakers t...  William96620719   \n",
              "93  Electric cars as the future of the automotive ...           qudach   \n",
              "94  I just entered @AutoTrader_UK’s monthly️ #Elec...        Alpha_Net   \n",
              "95  (Reuters) -Vietnamese electric vehicle maker V...        EaseyJosh   \n",
              "96  Electric cars only started becoming mainstream...          Bentler   \n",
              "\n",
              "        location  \n",
              "92          None  \n",
              "93          None  \n",
              "94  Millbury, MA  \n",
              "95          None  \n",
              "96    Washington  "
            ],
            "text/html": [
              "\n",
              "  <div id=\"df-729b0af3-a0ae-49a5-a64c-a2ef9e78ca08\">\n",
              "    <div class=\"colab-df-container\">\n",
              "      <div>\n",
              "<style scoped>\n",
              "    .dataframe tbody tr th:only-of-type {\n",
              "        vertical-align: middle;\n",
              "    }\n",
              "\n",
              "    .dataframe tbody tr th {\n",
              "        vertical-align: top;\n",
              "    }\n",
              "\n",
              "    .dataframe thead th {\n",
              "        text-align: right;\n",
              "    }\n",
              "</style>\n",
              "<table border=\"1\" class=\"dataframe\">\n",
              "  <thead>\n",
              "    <tr style=\"text-align: right;\">\n",
              "      <th></th>\n",
              "      <th>text</th>\n",
              "      <th>username</th>\n",
              "      <th>location</th>\n",
              "    </tr>\n",
              "  </thead>\n",
              "  <tbody>\n",
              "    <tr>\n",
              "      <th>92</th>\n",
              "      <td>Tesla’s delays allowed traditional carmakers t...</td>\n",
              "      <td>William96620719</td>\n",
              "      <td>None</td>\n",
              "    </tr>\n",
              "    <tr>\n",
              "      <th>93</th>\n",
              "      <td>Electric cars as the future of the automotive ...</td>\n",
              "      <td>qudach</td>\n",
              "      <td>None</td>\n",
              "    </tr>\n",
              "    <tr>\n",
              "      <th>94</th>\n",
              "      <td>I just entered @AutoTrader_UK’s monthly️ #Elec...</td>\n",
              "      <td>Alpha_Net</td>\n",
              "      <td>Millbury, MA</td>\n",
              "    </tr>\n",
              "    <tr>\n",
              "      <th>95</th>\n",
              "      <td>(Reuters) -Vietnamese electric vehicle maker V...</td>\n",
              "      <td>EaseyJosh</td>\n",
              "      <td>None</td>\n",
              "    </tr>\n",
              "    <tr>\n",
              "      <th>96</th>\n",
              "      <td>Electric cars only started becoming mainstream...</td>\n",
              "      <td>Bentler</td>\n",
              "      <td>Washington</td>\n",
              "    </tr>\n",
              "  </tbody>\n",
              "</table>\n",
              "</div>\n",
              "      <button class=\"colab-df-convert\" onclick=\"convertToInteractive('df-729b0af3-a0ae-49a5-a64c-a2ef9e78ca08')\"\n",
              "              title=\"Convert this dataframe to an interactive table.\"\n",
              "              style=\"display:none;\">\n",
              "        \n",
              "  <svg xmlns=\"http://www.w3.org/2000/svg\" height=\"24px\"viewBox=\"0 0 24 24\"\n",
              "       width=\"24px\">\n",
              "    <path d=\"M0 0h24v24H0V0z\" fill=\"none\"/>\n",
              "    <path d=\"M18.56 5.44l.94 2.06.94-2.06 2.06-.94-2.06-.94-.94-2.06-.94 2.06-2.06.94zm-11 1L8.5 8.5l.94-2.06 2.06-.94-2.06-.94L8.5 2.5l-.94 2.06-2.06.94zm10 10l.94 2.06.94-2.06 2.06-.94-2.06-.94-.94-2.06-.94 2.06-2.06.94z\"/><path d=\"M17.41 7.96l-1.37-1.37c-.4-.4-.92-.59-1.43-.59-.52 0-1.04.2-1.43.59L10.3 9.45l-7.72 7.72c-.78.78-.78 2.05 0 2.83L4 21.41c.39.39.9.59 1.41.59.51 0 1.02-.2 1.41-.59l7.78-7.78 2.81-2.81c.8-.78.8-2.07 0-2.86zM5.41 20L4 18.59l7.72-7.72 1.47 1.35L5.41 20z\"/>\n",
              "  </svg>\n",
              "      </button>\n",
              "      \n",
              "  <style>\n",
              "    .colab-df-container {\n",
              "      display:flex;\n",
              "      flex-wrap:wrap;\n",
              "      gap: 12px;\n",
              "    }\n",
              "\n",
              "    .colab-df-convert {\n",
              "      background-color: #E8F0FE;\n",
              "      border: none;\n",
              "      border-radius: 50%;\n",
              "      cursor: pointer;\n",
              "      display: none;\n",
              "      fill: #1967D2;\n",
              "      height: 32px;\n",
              "      padding: 0 0 0 0;\n",
              "      width: 32px;\n",
              "    }\n",
              "\n",
              "    .colab-df-convert:hover {\n",
              "      background-color: #E2EBFA;\n",
              "      box-shadow: 0px 1px 2px rgba(60, 64, 67, 0.3), 0px 1px 3px 1px rgba(60, 64, 67, 0.15);\n",
              "      fill: #174EA6;\n",
              "    }\n",
              "\n",
              "    [theme=dark] .colab-df-convert {\n",
              "      background-color: #3B4455;\n",
              "      fill: #D2E3FC;\n",
              "    }\n",
              "\n",
              "    [theme=dark] .colab-df-convert:hover {\n",
              "      background-color: #434B5C;\n",
              "      box-shadow: 0px 1px 3px 1px rgba(0, 0, 0, 0.15);\n",
              "      filter: drop-shadow(0px 1px 2px rgba(0, 0, 0, 0.3));\n",
              "      fill: #FFFFFF;\n",
              "    }\n",
              "  </style>\n",
              "\n",
              "      <script>\n",
              "        const buttonEl =\n",
              "          document.querySelector('#df-729b0af3-a0ae-49a5-a64c-a2ef9e78ca08 button.colab-df-convert');\n",
              "        buttonEl.style.display =\n",
              "          google.colab.kernel.accessAllowed ? 'block' : 'none';\n",
              "\n",
              "        async function convertToInteractive(key) {\n",
              "          const element = document.querySelector('#df-729b0af3-a0ae-49a5-a64c-a2ef9e78ca08');\n",
              "          const dataTable =\n",
              "            await google.colab.kernel.invokeFunction('convertToInteractive',\n",
              "                                                     [key], {});\n",
              "          if (!dataTable) return;\n",
              "\n",
              "          const docLinkHtml = 'Like what you see? Visit the ' +\n",
              "            '<a target=\"_blank\" href=https://colab.research.google.com/notebooks/data_table.ipynb>data table notebook</a>'\n",
              "            + ' to learn more about interactive tables.';\n",
              "          element.innerHTML = '';\n",
              "          dataTable['output_type'] = 'display_data';\n",
              "          await google.colab.output.renderOutput(dataTable, element);\n",
              "          const docLink = document.createElement('div');\n",
              "          docLink.innerHTML = docLinkHtml;\n",
              "          element.appendChild(docLink);\n",
              "        }\n",
              "      </script>\n",
              "    </div>\n",
              "  </div>\n",
              "  "
            ]
          },
          "metadata": {},
          "execution_count": 28
        }
      ]
    },
    {
      "cell_type": "code",
      "source": [
        "tweets_df.shape"
      ],
      "metadata": {
        "colab": {
          "base_uri": "https://localhost:8080/"
        },
        "id": "F5neMyi0rh08",
        "outputId": "c2f81191-a1d1-4ce2-f6e9-ea731d2786dd"
      },
      "execution_count": null,
      "outputs": [
        {
          "output_type": "execute_result",
          "data": {
            "text/plain": [
              "(97, 3)"
            ]
          },
          "metadata": {},
          "execution_count": 29
        }
      ]
    },
    {
      "cell_type": "code",
      "source": [
        "# Create a function to clean the tweets. Remove profanity, unnecessary characters, spaces, and stopwords.\n",
        "\n",
        "def clean_tweet(tweet):\n",
        "    if type(tweet) == np.float:\n",
        "        return \"\"\n",
        "    r = tweet.lower()\n",
        "    r = profanity.censor(r)\n",
        "    r = re.sub(\"'\", \"\", r) # This is to avoid removing contractions in english\n",
        "    r = re.sub(\"@[A-Za-z0-9_]+\",\"\", r)\n",
        "    r = re.sub(\"#[A-Za-z0-9_]+\",\"\", r)\n",
        "    r = re.sub(r'http\\S+', '', r)\n",
        "    r = re.sub('[()!?]', ' ', r)\n",
        "    r = re.sub('\\[.*?\\]',' ', r)\n",
        "    r = re.sub(\"[^a-z0-9]\",\" \", r)\n",
        "    r = r.split()\n",
        "    stopwords = [\"for\", \"on\", \"an\", \"a\", \"of\", \"and\", \"in\", \"the\", \"to\", \"from\"]\n",
        "    r = [w for w in r if not w in stopwords]\n",
        "    r = \" \".join(word for word in r)\n",
        "    return r"
      ],
      "metadata": {
        "id": "jOtv4lx0soKc"
      },
      "execution_count": null,
      "outputs": []
    },
    {
      "cell_type": "code",
      "source": [
        "tweets_df.iloc[0,0]"
      ],
      "metadata": {
        "colab": {
          "base_uri": "https://localhost:8080/",
          "height": 52
        },
        "id": "beET-OANtBAk",
        "outputId": "f3a98c71-7a4e-4033-a302-fc79e529364b"
      },
      "execution_count": null,
      "outputs": [
        {
          "output_type": "execute_result",
          "data": {
            "text/plain": [
              "'I just entered @AutoTrader_UK’s monthly️ #ElectricCarGiveaway &amp; you can too! This month’s prize is a MG Model MG4 worth over £26k! It’s free to enter &amp; you have until 28th February. All information (including Ts&amp;Cs) can be found here: https://t.co/hsLu9e9BAr'"
            ],
            "application/vnd.google.colaboratory.intrinsic+json": {
              "type": "string"
            }
          },
          "metadata": {},
          "execution_count": 31
        }
      ]
    },
    {
      "cell_type": "code",
      "source": [
        "tweets_df[\"text\"].iloc[21]"
      ],
      "metadata": {
        "colab": {
          "base_uri": "https://localhost:8080/",
          "height": 35
        },
        "id": "dE43TYantQao",
        "outputId": "6ad6af58-6139-4de3-b69e-6224292b4d23"
      },
      "execution_count": null,
      "outputs": [
        {
          "output_type": "execute_result",
          "data": {
            "text/plain": [
              "'@zerohedge do they use this stuff in them electric cars i hear about???'"
            ],
            "application/vnd.google.colaboratory.intrinsic+json": {
              "type": "string"
            }
          },
          "metadata": {},
          "execution_count": 32
        }
      ]
    },
    {
      "cell_type": "code",
      "source": [
        "tweet_list = tweets_df.text.to_list()"
      ],
      "metadata": {
        "id": "rFoVB-G3tHHL"
      },
      "execution_count": null,
      "outputs": []
    },
    {
      "cell_type": "code",
      "source": [
        "cleaned = [clean_tweet(tw) for tw in tweet_list]\n",
        "cleaned"
      ],
      "metadata": {
        "colab": {
          "base_uri": "https://localhost:8080/"
        },
        "id": "Dg2XzFfDtT6L",
        "outputId": "22b758b9-b324-4687-be1d-037e7655032a"
      },
      "execution_count": null,
      "outputs": [
        {
          "output_type": "stream",
          "name": "stderr",
          "text": [
            "<ipython-input-30-92e0f7140c9e>:4: DeprecationWarning: `np.float` is a deprecated alias for the builtin `float`. To silence this warning, use `float` by itself. Doing this will not modify any behavior and is safe. If you specifically wanted the numpy scalar type, use `np.float64` here.\n",
            "Deprecated in NumPy 1.20; for more details and guidance: https://numpy.org/devdocs/release/1.20.0-notes.html#deprecations\n",
            "  if type(tweet) == np.float:\n"
          ]
        },
        {
          "output_type": "execute_result",
          "data": {
            "text/plain": [
              "['i just entered s monthly amp you can too this month s prize is mg model mg4 worth over 26k it s free enter amp you have until 28th february all information including ts amp cs can be found here',\n",
              " 'or perhaps don t require all cars be electric find different way i m not giving up my car nice try though',\n",
              " 'i just entered s monthly amp you can too this month s prize is mg model mg4 worth over 26k it s free enter amp you have until 28th february all information including ts amp cs can be found here',\n",
              " 'tesla is having nokia moment there were 16 437 cars registered switzerland january 2023 3 4 increase over january 2022 best years start since covid pandemic began according swiss auto association at same time electric vehicles made strong',\n",
              " 'globalist pig youd our province over electric cars hmmmm i have one i bet you dont',\n",
              " 'this guy',\n",
              " 'other car companies werent concerned about saving world years ago but when electric cars started be coming more prominent getting subsidized by government then they became good samaritans',\n",
              " 'these were top 100 best selling electric cars europe 2022',\n",
              " 'i just entered s monthly amp you can too this month s prize is mg model mg4 worth over 26k it s free enter amp you have until 28th february all information including ts amp cs can be found here',\n",
              " 'i just entered s monthly amp you can too this month s prize is mg model mg4 worth over 26k it s free enter amp you have until 28th february all information including ts amp cs can be found here',\n",
              " 'i think you are missing call here big time sugar high tax time ev prices are going sink hard this year as ira takes hold battery cell production',\n",
              " 'electric vehicles power rise uk car sales despite weak outlook sales petrol vehicles rose 14 6 year year accounting 44 7 all new cars sold january madness cars are destroying world',\n",
              " 'it may depend upon what you mean by transport applications such as aircraft im test flying electric aeroplane my profile picture where weight endurance are critical hydrogen has lot potential cars less so ships trains jurys out',\n",
              " 'what new cars have you got ah we have so so electric nvm',\n",
              " 'i just entered s monthly amp you can too this month s prize is mg model mg4 worth over 26k it s free enter amp you have until 28th february all information including ts amp cs can be found here',\n",
              " 'truth about electric cars part one part two',\n",
              " 'actually trade everyone gass cars electric save world if they all cared if cared about world they would work out deal get as many electric cars world eliminate gas usage',\n",
              " 'you cant build electric cars without rare earth minerals russia china or without cheap chinese labor or sell massive markets like china india musk knows where his supplies parts labor market is located hes willing dupe russia',\n",
              " 'i just entered s monthly amp you can too this month s prize is mg model mg4 worth over 26k it s free enter amp you have until 28th february all information including ts amp cs can be found here',\n",
              " 'i just entered s monthly amp you can too this month s prize is mg model mg4 worth over 26k it s free enter amp you have until 28th february all information including ts amp cs can be found here',\n",
              " 'reason government wants ban gas stoves is same reason they want mandate electric cars government wants have power shut off anything that it can not control directly they want be able shut off our cars stoves whenever they want',\n",
              " 'do they use this stuff them electric cars i hear about',\n",
              " 'it is sooner than we think information computing telecommunications revolution digital plays google facebook have flourished progress synthesizing bytes with atoms has taken longer but now bearing fruit i e electric autonomous uavs flying cars',\n",
              " 'i just entered s monthly amp you can too this month s prize is mg model mg4 worth over 26k it s free enter amp you have until 28th february all information including ts amp cs can be found here',\n",
              " 'yeah musk moved his company there so texas must support electric cars',\n",
              " 'happy monday twitter here at minddrive we are keeping energy high this week as we work 12 electric race cars 2 electric resto mod conversions 10 battlebots 24 welded sculptures training 3 esports teams 44 drone pilots',\n",
              " 'climate change is biggest hoax all time it is being used control people here texas total electric cars are useless',\n",
              " 'why not electric cars',\n",
              " '',\n",
              " 'chinese tesla rival xpeng launches p7 g9 electric cars europe',\n",
              " 'i just entered s monthly amp you can too this month s prize is mg model mg4 worth over 26k it s free enter amp you have until 28th february all information including ts amp cs can be found here',\n",
              " 'ta need stop with these ballon ya aint saying anything about all your household items are china im sure enough ya cant wait invest chinese electric cars',\n",
              " 'wltoys rc cars 1 12 scale 2 4g 4wd high speed electric all terrain off road r ebay',\n",
              " 'i just entered s monthly amp you can too this month s prize is mg model mg4 worth over 26k it s free enter amp you have until 28th february all information including ts amp cs can be found here',\n",
              " 'i just entered s monthly amp you can too this month s prize is mg model mg4 worth over 26k it s free enter amp you have until 28th february all information including ts amp cs can be found here',\n",
              " 'bridget you are probably correct car will be driving you most likely tesla i remember talking people years ago that were service industry they refuse use gps they wanted old maps they were used them they liked them sorry electric cars are future',\n",
              " 'cars are only utilised average 4 time 96 time they are parked could be connected grid thats 1900gwh storage sitting parked vehicle grid gives us massive storage potential top domestic amp grid scale batteries',\n",
              " 'first drive mercedes amg g63 ride car white 12v kids cars dual motor electric power ride car with remote mp3 aux nx3uj0e',\n",
              " 'im desperate go electric but lack infrastructure cost cars is putting me right off',\n",
              " 'i just entered s monthly amp you can too this month s prize is mg model mg4 worth over 26k it s free enter amp you have until 28th february all information including ts amp cs can be found here',\n",
              " 'put solar panels kansas electric cars use solar reducing need ethanol so less corn needed so less water pulled out aquifer',\n",
              " 'i just entered s monthly amp you can too this month s prize is mg model mg4 worth over 26k it s free enter amp you have until 28th february all information including ts amp cs can be found here',\n",
              " 'i just entered s monthly amp you can too this month s prize is mg model mg4 worth over 26k it s free enter amp you have until 28th february all information including ts amp cs can be found here',\n",
              " 'i just entered s monthly amp you can too this month s prize is mg model mg4 worth over 26k it s free enter amp you have until 28th february all information including ts amp cs can be found here',\n",
              " 'do you really think they ll remove money making scheme like they were supposed do dartford tunnel bridge but didn ll turn into pay per mile scheme all cars as khan has previously suggested i guess you can afford nice new electric car most can t',\n",
              " '10 little known facts about driving electric cars summer',\n",
              " 'transition electric vehicles could lead lithium shortages unless united states other countries overhaul their transportation systems move away private cars as primary means travel',\n",
              " 'heres why electric cars wont gas engine cars any time soon',\n",
              " 'as both you i know oil resources are continuously renewed minerals are not batteries as comparison are extremely expensive not everyone want live their cars without nature as result when wind power electric grid are extended',\n",
              " 'but what about electric cars',\n",
              " 'hydrogen cars are better future then electric cars yes itll take more development but its better long run both climate car enthusiasts',\n",
              " 'electric mini cars are best when pink',\n",
              " 'seriously though fox news draws highest consistent ratings cable tv maybe wwe should just stop doing wrestling do right wing political news commentary tesla makes more than wwe maybe wwe should stop doing wrestling sell electric cars instead',\n",
              " 'electricity will be more then gas once enough people have electric cars',\n",
              " 'i just entered s monthly amp you can too this month s prize is mg model mg4 worth over 26k it s free enter amp you have until 28th february all information including ts amp cs can be found here',\n",
              " 'i just entered s monthly amp you can too this month s prize is mg model mg4 worth over 26k it s free enter amp you have until 28th february all information including ts amp cs can be found here',\n",
              " 'let s be clear electrifying is not sustainable americas obsession with ginormous electric or not is problem',\n",
              " 'fossil fuels power electric cars',\n",
              " 'shoving electric cars down peoples throats will not fix this folks mother nature no pronouns necessary will do whatever she feels whenever she feels get right with yourselves',\n",
              " 'china s energy storage sector set strong growth 2023 as electric cars clean energy projects boost demand',\n",
              " 'yea ima get me truck next but go what you want before all these electric cars hit road they re about stop making gas challengers chargers',\n",
              " 'these are 5 best ev stocks buy watch now',\n",
              " 'i just entered s monthly amp you can too this month s prize is mg model mg4 worth over 26k it s free enter amp you have until 28th february all information including ts amp cs can be found here',\n",
              " 'electric cars everything you need know gt',\n",
              " 'i call upon biden administration start rolling out digital currency ban gas cars produce more electric cars',\n",
              " 'many argue we cant possibly electrify transportation by deadlines reduce emissions that we had not only electric trains buses amp streetcars but also electric cars more than hundred years ago still do shows how silly that view is',\n",
              " 'entered s monthly amp you can too this month s prize is mg model mg4 worth over 26k it s free enter amp you have until 28th february all information including ts amp cs can be found here',\n",
              " 'i just entered s monthly amp you can too this month s prize is mg model mg4 worth over 26k it s free enter amp you have until 28th february all information including ts amp cs can be found here',\n",
              " 'theyre like tesla owners when you say electric cars arent your thing they immediately call you too poor one anyways yeah well if youre so smart rich you can pay some group therapy learn how not be such',\n",
              " 'i just entered s monthly amp you can too this month s prize is mg model mg4 worth over 26k it s free enter amp you have until 28th february all information including ts amp cs can be found here',\n",
              " 'i s monthly amp you can too this month s prize is mg model mg4 worth over 26k it s free enter amp you have until 28th february all information including ts amp cs can be found here',\n",
              " 'surely this will be solved by making cars electric so they weigh extra 1 000 lbs',\n",
              " 'electric vehicles have seen dramatic decline dropping by average 6 6 c 2 050 month',\n",
              " 'byds electric car charging tower xi at same time 10th floor 400 electric cars are parked charge',\n",
              " 'new stats zap map show cars comprised 13 all new last month there are 37 800 charging devices uk since jan 2022 31 increase total no devices 77 increase ultra rapids see more',\n",
              " 'i just entered s monthly amp you can too this month s prize is mg model mg4 worth over 26k it s free enter amp you have until 28th february all information including ts amp cs can be found here',\n",
              " 'curious about argument electric cars are bad because what do with batteries quick math 300m cars registered us yearly 10 year batteries 50 battery recycle ability 2000 lb battery shows yearly landfill waste increases by 1 seriously not bad',\n",
              " 'i just entered s monthly amp you can too this month s prize is mg model mg4 worth over 26k it s free enter amp you have until 28th february all information including ts amp cs can be found here',\n",
              " 'what 2 700 mile ev road trip why if americans are going switch electric cars they want charging be as convenient seamless as filling up gas tank',\n",
              " 'i just entered s monthly amp you can too this month s prize is mg model mg4 worth over 26k it s free enter amp you have until 28th february all information including ts amp cs can be found here',\n",
              " 'i just entered s monthly amp you can too this month s prize is mg model mg4 worth over 26k it s free enter amp you have until 28th february all information including ts amp cs can be found here',\n",
              " 'just one new public charger was built every 53 electric cars sold last year putting adoption green vehicles under strain',\n",
              " 'i just entered s monthly amp you can too this month s prize is mg model mg4 worth over 26k it s free enter amp you have until 28th february all information including ts amp cs can be found here',\n",
              " 'fewer smaller shared e cars instead all electric trains small electric buses e bikes e trikes mobility trikes bikes scooters walking ev strategey private cars all uk us is pure fantasy destructive nature liveable planet',\n",
              " 'yes but ccp satellites cannot deliver low atmosphere electromagnetic pulse explosion knock out our entire electric grid you know electric grid schwabs wef wants everything we use be dependant cars stoves water systems refrigeration hospitals etc',\n",
              " 'he left out electric cars too get it right dude',\n",
              " 'same with electric cars remember when told everyone they were replacing analog phones with digital because we d have better connections not true they couldn t track them',\n",
              " 'i just entered s monthly amp you can too this month s prize is mg model mg4 worth over 26k it s free enter amp you have until 28th february all information including ts amp cs can be found here',\n",
              " 'when can we talk about labor being used make lithium batteries electric cars our progressive government is trying push us',\n",
              " 'electric cars will have switch that will disable them electric stoves etc can be turned off grid reason demonization natural gas all about control every facet american life marxists hate freedom',\n",
              " 'now if we had gone all electric cars every austin energy customer would be stuck at home we have crippled infrastructure that can t even handle current consumption levels',\n",
              " 'just one charge point installed every 53 electric cars sold 2022 telegraph',\n",
              " 'tesla s delays allowed traditional carmakers beat it market with electric pickups leave tesla with nothing offer many americans who prefer pickup trucks cars or sport utility vehicles',\n",
              " 'electric cars as future automotive industry',\n",
              " 'i just entered s monthly amp you can too this month s prize is mg model mg4 worth over 26k it s free enter amp you have until 28th february all information including ts amp cs can be found here',\n",
              " 'reuters vietnamese electric vehicle maker vinfast is cutting its workforce united states company said monday amid restructuring its major overseas market as startup grapples with stalled shipment its first cars',\n",
              " 'electric cars only started becoming mainstream recently but did you know their history stretches back almost 200 years check it out']"
            ]
          },
          "metadata": {},
          "execution_count": 34
        }
      ]
    },
    {
      "cell_type": "code",
      "source": [
        "# Define the sentiment objects using TextBlob\n",
        "\n",
        "sentiment_objects = [TextBlob(tweet) for tweet in cleaned]\n",
        "\n",
        "sentiment_objects[0].polarity, sentiment_objects[0]"
      ],
      "metadata": {
        "colab": {
          "base_uri": "https://localhost:8080/"
        },
        "id": "CIrVc9Mat6Tz",
        "outputId": "1883b329-7eaf-48da-e729-55ed2b5a2543"
      },
      "execution_count": null,
      "outputs": [
        {
          "output_type": "execute_result",
          "data": {
            "text/plain": [
              "(0.35,\n",
              " TextBlob(\"i just entered s monthly amp you can too this month s prize is mg model mg4 worth over 26k it s free enter amp you have until 28th february all information including ts amp cs can be found here\"))"
            ]
          },
          "metadata": {},
          "execution_count": 35
        }
      ]
    },
    {
      "cell_type": "code",
      "source": [
        "# Create a list of polarity values and tweet text\n",
        "\n",
        "sentiment_values = [[tweet.sentiment.polarity, str(tweet)] for tweet in sentiment_objects]\n",
        "\n",
        "# Print the value of the 0th row.\n",
        "\n",
        "sentiment_values[0]\n",
        "# Print all the sentiment values\n",
        "\n",
        "sentiment_values[0:99]"
      ],
      "metadata": {
        "colab": {
          "base_uri": "https://localhost:8080/"
        },
        "id": "bSWWp3Zbv6qZ",
        "outputId": "8fbce59f-38c6-4d71-bd8c-c3ce1e2edfe1"
      },
      "execution_count": null,
      "outputs": [
        {
          "output_type": "execute_result",
          "data": {
            "text/plain": [
              "[[0.35,\n",
              "  'i just entered s monthly amp you can too this month s prize is mg model mg4 worth over 26k it s free enter amp you have until 28th february all information including ts amp cs can be found here'],\n",
              " [0.3,\n",
              "  'or perhaps don t require all cars be electric find different way i m not giving up my car nice try though'],\n",
              " [0.35,\n",
              "  'i just entered s monthly amp you can too this month s prize is mg model mg4 worth over 26k it s free enter amp you have until 28th february all information including ts amp cs can be found here'],\n",
              " [0.4777777777777778,\n",
              "  'tesla is having nokia moment there were 16 437 cars registered switzerland january 2023 3 4 increase over january 2022 best years start since covid pandemic began according swiss auto association at same time electric vehicles made strong'],\n",
              " [0.0,\n",
              "  'globalist pig youd our province over electric cars hmmmm i have one i bet you dont'],\n",
              " [0.0, 'this guy'],\n",
              " [0.39375,\n",
              "  'other car companies werent concerned about saving world years ago but when electric cars started be coming more prominent getting subsidized by government then they became good samaritans'],\n",
              " [0.75, 'these were top 100 best selling electric cars europe 2022'],\n",
              " [0.35,\n",
              "  'i just entered s monthly amp you can too this month s prize is mg model mg4 worth over 26k it s free enter amp you have until 28th february all information including ts amp cs can be found here'],\n",
              " [0.35,\n",
              "  'i just entered s monthly amp you can too this month s prize is mg model mg4 worth over 26k it s free enter amp you have until 28th february all information including ts amp cs can be found here'],\n",
              " [-0.08291666666666667,\n",
              "  'i think you are missing call here big time sugar high tax time ev prices are going sink hard this year as ira takes hold battery cell production'],\n",
              " [0.04034090909090908,\n",
              "  'electric vehicles power rise uk car sales despite weak outlook sales petrol vehicles rose 14 6 year year accounting 44 7 all new cars sold january madness cars are destroying world'],\n",
              " [-0.09583333333333333,\n",
              "  'it may depend upon what you mean by transport applications such as aircraft im test flying electric aeroplane my profile picture where weight endurance are critical hydrogen has lot potential cars less so ships trains jurys out'],\n",
              " [0.13636363636363635,\n",
              "  'what new cars have you got ah we have so so electric nvm'],\n",
              " [0.35,\n",
              "  'i just entered s monthly amp you can too this month s prize is mg model mg4 worth over 26k it s free enter amp you have until 28th february all information including ts amp cs can be found here'],\n",
              " [0.0, 'truth about electric cars part one part two'],\n",
              " [0.25,\n",
              "  'actually trade everyone gass cars electric save world if they all cared if cared about world they would work out deal get as many electric cars world eliminate gas usage'],\n",
              " [0.19,\n",
              "  'you cant build electric cars without rare earth minerals russia china or without cheap chinese labor or sell massive markets like china india musk knows where his supplies parts labor market is located hes willing dupe russia'],\n",
              " [0.35,\n",
              "  'i just entered s monthly amp you can too this month s prize is mg model mg4 worth over 26k it s free enter amp you have until 28th february all information including ts amp cs can be found here'],\n",
              " [0.35,\n",
              "  'i just entered s monthly amp you can too this month s prize is mg model mg4 worth over 26k it s free enter amp you have until 28th february all information including ts amp cs can be found here'],\n",
              " [0.2,\n",
              "  'reason government wants ban gas stoves is same reason they want mandate electric cars government wants have power shut off anything that it can not control directly they want be able shut off our cars stoves whenever they want'],\n",
              " [0.0, 'do they use this stuff them electric cars i hear about'],\n",
              " [0.2,\n",
              "  'it is sooner than we think information computing telecommunications revolution digital plays google facebook have flourished progress synthesizing bytes with atoms has taken longer but now bearing fruit i e electric autonomous uavs flying cars'],\n",
              " [0.35,\n",
              "  'i just entered s monthly amp you can too this month s prize is mg model mg4 worth over 26k it s free enter amp you have until 28th february all information including ts amp cs can be found here'],\n",
              " [0.0,\n",
              "  'yeah musk moved his company there so texas must support electric cars'],\n",
              " [0.3866666666666667,\n",
              "  'happy monday twitter here at minddrive we are keeping energy high this week as we work 12 electric race cars 2 electric resto mod conversions 10 battlebots 24 welded sculptures training 3 esports teams 44 drone pilots'],\n",
              " [-0.25,\n",
              "  'climate change is biggest hoax all time it is being used control people here texas total electric cars are useless'],\n",
              " [0.0, 'why not electric cars'],\n",
              " [0.0, ''],\n",
              " [0.0, 'chinese tesla rival xpeng launches p7 g9 electric cars europe'],\n",
              " [0.35,\n",
              "  'i just entered s monthly amp you can too this month s prize is mg model mg4 worth over 26k it s free enter amp you have until 28th february all information including ts amp cs can be found here'],\n",
              " [0.16666666666666666,\n",
              "  'ta need stop with these ballon ya aint saying anything about all your household items are china im sure enough ya cant wait invest chinese electric cars'],\n",
              " [0.16,\n",
              "  'wltoys rc cars 1 12 scale 2 4g 4wd high speed electric all terrain off road r ebay'],\n",
              " [0.35,\n",
              "  'i just entered s monthly amp you can too this month s prize is mg model mg4 worth over 26k it s free enter amp you have until 28th february all information including ts amp cs can be found here'],\n",
              " [0.35,\n",
              "  'i just entered s monthly amp you can too this month s prize is mg model mg4 worth over 26k it s free enter amp you have until 28th february all information including ts amp cs can be found here'],\n",
              " [0.11666666666666665,\n",
              "  'bridget you are probably correct car will be driving you most likely tesla i remember talking people years ago that were service industry they refuse use gps they wanted old maps they were used them they liked them sorry electric cars are future'],\n",
              " [0.05833333333333333,\n",
              "  'cars are only utilised average 4 time 96 time they are parked could be connected grid thats 1900gwh storage sitting parked vehicle grid gives us massive storage potential top domestic amp grid scale batteries'],\n",
              " [0.049999999999999996,\n",
              "  'first drive mercedes amg g63 ride car white 12v kids cars dual motor electric power ride car with remote mp3 aux nx3uj0e'],\n",
              " [-0.15714285714285714,\n",
              "  'im desperate go electric but lack infrastructure cost cars is putting me right off'],\n",
              " [0.35,\n",
              "  'i just entered s monthly amp you can too this month s prize is mg model mg4 worth over 26k it s free enter amp you have until 28th february all information including ts amp cs can be found here'],\n",
              " [-0.16666666666666666,\n",
              "  'put solar panels kansas electric cars use solar reducing need ethanol so less corn needed so less water pulled out aquifer'],\n",
              " [0.35,\n",
              "  'i just entered s monthly amp you can too this month s prize is mg model mg4 worth over 26k it s free enter amp you have until 28th february all information including ts amp cs can be found here'],\n",
              " [0.35,\n",
              "  'i just entered s monthly amp you can too this month s prize is mg model mg4 worth over 26k it s free enter amp you have until 28th february all information including ts amp cs can be found here'],\n",
              " [0.35,\n",
              "  'i just entered s monthly amp you can too this month s prize is mg model mg4 worth over 26k it s free enter amp you have until 28th february all information including ts amp cs can be found here'],\n",
              " [0.2539393939393939,\n",
              "  'do you really think they ll remove money making scheme like they were supposed do dartford tunnel bridge but didn ll turn into pay per mile scheme all cars as khan has previously suggested i guess you can afford nice new electric car most can t'],\n",
              " [-0.1875, '10 little known facts about driving electric cars summer'],\n",
              " [0.09166666666666667,\n",
              "  'transition electric vehicles could lead lithium shortages unless united states other countries overhaul their transportation systems move away private cars as primary means travel'],\n",
              " [0.0, 'heres why electric cars wont gas engine cars any time soon'],\n",
              " [-0.18181818181818182,\n",
              "  'as both you i know oil resources are continuously renewed minerals are not batteries as comparison are extremely expensive not everyone want live their cars without nature as result when wind power electric grid are extended'],\n",
              " [0.0, 'but what about electric cars'],\n",
              " [0.29,\n",
              "  'hydrogen cars are better future then electric cars yes itll take more development but its better long run both climate car enthusiasts'],\n",
              " [0.45, 'electric mini cars are best when pink'],\n",
              " [0.14047619047619048,\n",
              "  'seriously though fox news draws highest consistent ratings cable tv maybe wwe should just stop doing wrestling do right wing political news commentary tesla makes more than wwe maybe wwe should stop doing wrestling sell electric cars instead'],\n",
              " [0.25,\n",
              "  'electricity will be more then gas once enough people have electric cars'],\n",
              " [0.35,\n",
              "  'i just entered s monthly amp you can too this month s prize is mg model mg4 worth over 26k it s free enter amp you have until 28th february all information including ts amp cs can be found here'],\n",
              " [0.35,\n",
              "  'i just entered s monthly amp you can too this month s prize is mg model mg4 worth over 26k it s free enter amp you have until 28th february all information including ts amp cs can be found here'],\n",
              " [0.10000000000000002,\n",
              "  'let s be clear electrifying is not sustainable americas obsession with ginormous electric or not is problem'],\n",
              " [0.0, 'fossil fuels power electric cars'],\n",
              " [0.04338624338624337,\n",
              "  'shoving electric cars down peoples throats will not fix this folks mother nature no pronouns necessary will do whatever she feels whenever she feels get right with yourselves'],\n",
              " [0.4,\n",
              "  'china s energy storage sector set strong growth 2023 as electric cars clean energy projects boost demand'],\n",
              " [0.0,\n",
              "  'yea ima get me truck next but go what you want before all these electric cars hit road they re about stop making gas challengers chargers'],\n",
              " [1.0, 'these are 5 best ev stocks buy watch now'],\n",
              " [0.35,\n",
              "  'i just entered s monthly amp you can too this month s prize is mg model mg4 worth over 26k it s free enter amp you have until 28th february all information including ts amp cs can be found here'],\n",
              " [0.0, 'electric cars everything you need know gt'],\n",
              " [0.25,\n",
              "  'i call upon biden administration start rolling out digital currency ban gas cars produce more electric cars'],\n",
              " [0.1,\n",
              "  'many argue we cant possibly electrify transportation by deadlines reduce emissions that we had not only electric trains buses amp streetcars but also electric cars more than hundred years ago still do shows how silly that view is'],\n",
              " [0.35,\n",
              "  'entered s monthly amp you can too this month s prize is mg model mg4 worth over 26k it s free enter amp you have until 28th february all information including ts amp cs can be found here'],\n",
              " [0.35,\n",
              "  'i just entered s monthly amp you can too this month s prize is mg model mg4 worth over 26k it s free enter amp you have until 28th february all information including ts amp cs can be found here'],\n",
              " [0.04732142857142856,\n",
              "  'theyre like tesla owners when you say electric cars arent your thing they immediately call you too poor one anyways yeah well if youre so smart rich you can pay some group therapy learn how not be such'],\n",
              " [0.35,\n",
              "  'i just entered s monthly amp you can too this month s prize is mg model mg4 worth over 26k it s free enter amp you have until 28th february all information including ts amp cs can be found here'],\n",
              " [0.35,\n",
              "  'i s monthly amp you can too this month s prize is mg model mg4 worth over 26k it s free enter amp you have until 28th february all information including ts amp cs can be found here'],\n",
              " [0.25,\n",
              "  'surely this will be solved by making cars electric so they weigh extra 1 000 lbs'],\n",
              " [-0.29166666666666663,\n",
              "  'electric vehicles have seen dramatic decline dropping by average 6 6 c 2 050 month'],\n",
              " [0.0,\n",
              "  'byds electric car charging tower xi at same time 10th floor 400 electric cars are parked charge'],\n",
              " [0.15454545454545454,\n",
              "  'new stats zap map show cars comprised 13 all new last month there are 37 800 charging devices uk since jan 2022 31 increase total no devices 77 increase ultra rapids see more'],\n",
              " [0.35,\n",
              "  'i just entered s monthly amp you can too this month s prize is mg model mg4 worth over 26k it s free enter amp you have until 28th february all information including ts amp cs can be found here'],\n",
              " [-0.06333333333333332,\n",
              "  'curious about argument electric cars are bad because what do with batteries quick math 300m cars registered us yearly 10 year batteries 50 battery recycle ability 2000 lb battery shows yearly landfill waste increases by 1 seriously not bad'],\n",
              " [0.35,\n",
              "  'i just entered s monthly amp you can too this month s prize is mg model mg4 worth over 26k it s free enter amp you have until 28th february all information including ts amp cs can be found here'],\n",
              " [0.1,\n",
              "  'what 2 700 mile ev road trip why if americans are going switch electric cars they want charging be as convenient seamless as filling up gas tank'],\n",
              " [0.35,\n",
              "  'i just entered s monthly amp you can too this month s prize is mg model mg4 worth over 26k it s free enter amp you have until 28th february all information including ts amp cs can be found here'],\n",
              " [0.35,\n",
              "  'i just entered s monthly amp you can too this month s prize is mg model mg4 worth over 26k it s free enter amp you have until 28th february all information including ts amp cs can be found here'],\n",
              " [-0.015909090909090914,\n",
              "  'just one new public charger was built every 53 electric cars sold last year putting adoption green vehicles under strain'],\n",
              " [0.35,\n",
              "  'i just entered s monthly amp you can too this month s prize is mg model mg4 worth over 26k it s free enter amp you have until 28th february all information including ts amp cs can be found here'],\n",
              " [-0.12714285714285714,\n",
              "  'fewer smaller shared e cars instead all electric trains small electric buses e bikes e trikes mobility trikes bikes scooters walking ev strategey private cars all uk us is pure fantasy destructive nature liveable planet'],\n",
              " [0.06666666666666667,\n",
              "  'yes but ccp satellites cannot deliver low atmosphere electromagnetic pulse explosion knock out our entire electric grid you know electric grid schwabs wef wants everything we use be dependant cars stoves water systems refrigeration hospitals etc'],\n",
              " [0.14285714285714285, 'he left out electric cars too get it right dude'],\n",
              " [0.08125,\n",
              "  'same with electric cars remember when told everyone they were replacing analog phones with digital because we d have better connections not true they couldn t track them'],\n",
              " [0.35,\n",
              "  'i just entered s monthly amp you can too this month s prize is mg model mg4 worth over 26k it s free enter amp you have until 28th february all information including ts amp cs can be found here'],\n",
              " [0.0,\n",
              "  'when can we talk about labor being used make lithium batteries electric cars our progressive government is trying push us'],\n",
              " [-0.23333333333333336,\n",
              "  'electric cars will have switch that will disable them electric stoves etc can be turned off grid reason demonization natural gas all about control every facet american life marxists hate freedom'],\n",
              " [0.0,\n",
              "  'now if we had gone all electric cars every austin energy customer would be stuck at home we have crippled infrastructure that can t even handle current consumption levels'],\n",
              " [0.0,\n",
              "  'just one charge point installed every 53 electric cars sold 2022 telegraph'],\n",
              " [0.25,\n",
              "  'tesla s delays allowed traditional carmakers beat it market with electric pickups leave tesla with nothing offer many americans who prefer pickup trucks cars or sport utility vehicles'],\n",
              " [0.0, 'electric cars as future automotive industry'],\n",
              " [0.35,\n",
              "  'i just entered s monthly amp you can too this month s prize is mg model mg4 worth over 26k it s free enter amp you have until 28th february all information including ts amp cs can be found here'],\n",
              " [-0.09583333333333333,\n",
              "  'reuters vietnamese electric vehicle maker vinfast is cutting its workforce united states company said monday amid restructuring its major overseas market as startup grapples with stalled shipment its first cars'],\n",
              " [0.1125,\n",
              "  'electric cars only started becoming mainstream recently but did you know their history stretches back almost 200 years check it out']]"
            ]
          },
          "metadata": {},
          "execution_count": 36
        }
      ]
    },
    {
      "cell_type": "code",
      "source": [
        "# Create a dataframe of each tweet against its polarity\n",
        "\n",
        "sentiment_df = pd.DataFrame(sentiment_values, columns=[\"polarity\", \"tweet\"])\n",
        "\n",
        "sentiment_df"
      ],
      "metadata": {
        "colab": {
          "base_uri": "https://localhost:8080/",
          "height": 423
        },
        "id": "HyuPsnw_woib",
        "outputId": "e1f6574d-b790-4873-8eea-7332c3b6c92d"
      },
      "execution_count": null,
      "outputs": [
        {
          "output_type": "execute_result",
          "data": {
            "text/plain": [
              "    polarity                                              tweet\n",
              "0   0.350000  i just entered s monthly amp you can too this ...\n",
              "1   0.300000  or perhaps don t require all cars be electric ...\n",
              "2   0.350000  i just entered s monthly amp you can too this ...\n",
              "3   0.477778  tesla is having nokia moment there were 16 437...\n",
              "4   0.000000  globalist pig youd our province over electric ...\n",
              "..       ...                                                ...\n",
              "92  0.250000  tesla s delays allowed traditional carmakers b...\n",
              "93  0.000000        electric cars as future automotive industry\n",
              "94  0.350000  i just entered s monthly amp you can too this ...\n",
              "95 -0.095833  reuters vietnamese electric vehicle maker vinf...\n",
              "96  0.112500  electric cars only started becoming mainstream...\n",
              "\n",
              "[97 rows x 2 columns]"
            ],
            "text/html": [
              "\n",
              "  <div id=\"df-cf604689-d6bb-42a9-9347-31247aa2d365\">\n",
              "    <div class=\"colab-df-container\">\n",
              "      <div>\n",
              "<style scoped>\n",
              "    .dataframe tbody tr th:only-of-type {\n",
              "        vertical-align: middle;\n",
              "    }\n",
              "\n",
              "    .dataframe tbody tr th {\n",
              "        vertical-align: top;\n",
              "    }\n",
              "\n",
              "    .dataframe thead th {\n",
              "        text-align: right;\n",
              "    }\n",
              "</style>\n",
              "<table border=\"1\" class=\"dataframe\">\n",
              "  <thead>\n",
              "    <tr style=\"text-align: right;\">\n",
              "      <th></th>\n",
              "      <th>polarity</th>\n",
              "      <th>tweet</th>\n",
              "    </tr>\n",
              "  </thead>\n",
              "  <tbody>\n",
              "    <tr>\n",
              "      <th>0</th>\n",
              "      <td>0.350000</td>\n",
              "      <td>i just entered s monthly amp you can too this ...</td>\n",
              "    </tr>\n",
              "    <tr>\n",
              "      <th>1</th>\n",
              "      <td>0.300000</td>\n",
              "      <td>or perhaps don t require all cars be electric ...</td>\n",
              "    </tr>\n",
              "    <tr>\n",
              "      <th>2</th>\n",
              "      <td>0.350000</td>\n",
              "      <td>i just entered s monthly amp you can too this ...</td>\n",
              "    </tr>\n",
              "    <tr>\n",
              "      <th>3</th>\n",
              "      <td>0.477778</td>\n",
              "      <td>tesla is having nokia moment there were 16 437...</td>\n",
              "    </tr>\n",
              "    <tr>\n",
              "      <th>4</th>\n",
              "      <td>0.000000</td>\n",
              "      <td>globalist pig youd our province over electric ...</td>\n",
              "    </tr>\n",
              "    <tr>\n",
              "      <th>...</th>\n",
              "      <td>...</td>\n",
              "      <td>...</td>\n",
              "    </tr>\n",
              "    <tr>\n",
              "      <th>92</th>\n",
              "      <td>0.250000</td>\n",
              "      <td>tesla s delays allowed traditional carmakers b...</td>\n",
              "    </tr>\n",
              "    <tr>\n",
              "      <th>93</th>\n",
              "      <td>0.000000</td>\n",
              "      <td>electric cars as future automotive industry</td>\n",
              "    </tr>\n",
              "    <tr>\n",
              "      <th>94</th>\n",
              "      <td>0.350000</td>\n",
              "      <td>i just entered s monthly amp you can too this ...</td>\n",
              "    </tr>\n",
              "    <tr>\n",
              "      <th>95</th>\n",
              "      <td>-0.095833</td>\n",
              "      <td>reuters vietnamese electric vehicle maker vinf...</td>\n",
              "    </tr>\n",
              "    <tr>\n",
              "      <th>96</th>\n",
              "      <td>0.112500</td>\n",
              "      <td>electric cars only started becoming mainstream...</td>\n",
              "    </tr>\n",
              "  </tbody>\n",
              "</table>\n",
              "<p>97 rows × 2 columns</p>\n",
              "</div>\n",
              "      <button class=\"colab-df-convert\" onclick=\"convertToInteractive('df-cf604689-d6bb-42a9-9347-31247aa2d365')\"\n",
              "              title=\"Convert this dataframe to an interactive table.\"\n",
              "              style=\"display:none;\">\n",
              "        \n",
              "  <svg xmlns=\"http://www.w3.org/2000/svg\" height=\"24px\"viewBox=\"0 0 24 24\"\n",
              "       width=\"24px\">\n",
              "    <path d=\"M0 0h24v24H0V0z\" fill=\"none\"/>\n",
              "    <path d=\"M18.56 5.44l.94 2.06.94-2.06 2.06-.94-2.06-.94-.94-2.06-.94 2.06-2.06.94zm-11 1L8.5 8.5l.94-2.06 2.06-.94-2.06-.94L8.5 2.5l-.94 2.06-2.06.94zm10 10l.94 2.06.94-2.06 2.06-.94-2.06-.94-.94-2.06-.94 2.06-2.06.94z\"/><path d=\"M17.41 7.96l-1.37-1.37c-.4-.4-.92-.59-1.43-.59-.52 0-1.04.2-1.43.59L10.3 9.45l-7.72 7.72c-.78.78-.78 2.05 0 2.83L4 21.41c.39.39.9.59 1.41.59.51 0 1.02-.2 1.41-.59l7.78-7.78 2.81-2.81c.8-.78.8-2.07 0-2.86zM5.41 20L4 18.59l7.72-7.72 1.47 1.35L5.41 20z\"/>\n",
              "  </svg>\n",
              "      </button>\n",
              "      \n",
              "  <style>\n",
              "    .colab-df-container {\n",
              "      display:flex;\n",
              "      flex-wrap:wrap;\n",
              "      gap: 12px;\n",
              "    }\n",
              "\n",
              "    .colab-df-convert {\n",
              "      background-color: #E8F0FE;\n",
              "      border: none;\n",
              "      border-radius: 50%;\n",
              "      cursor: pointer;\n",
              "      display: none;\n",
              "      fill: #1967D2;\n",
              "      height: 32px;\n",
              "      padding: 0 0 0 0;\n",
              "      width: 32px;\n",
              "    }\n",
              "\n",
              "    .colab-df-convert:hover {\n",
              "      background-color: #E2EBFA;\n",
              "      box-shadow: 0px 1px 2px rgba(60, 64, 67, 0.3), 0px 1px 3px 1px rgba(60, 64, 67, 0.15);\n",
              "      fill: #174EA6;\n",
              "    }\n",
              "\n",
              "    [theme=dark] .colab-df-convert {\n",
              "      background-color: #3B4455;\n",
              "      fill: #D2E3FC;\n",
              "    }\n",
              "\n",
              "    [theme=dark] .colab-df-convert:hover {\n",
              "      background-color: #434B5C;\n",
              "      box-shadow: 0px 1px 3px 1px rgba(0, 0, 0, 0.15);\n",
              "      filter: drop-shadow(0px 1px 2px rgba(0, 0, 0, 0.3));\n",
              "      fill: #FFFFFF;\n",
              "    }\n",
              "  </style>\n",
              "\n",
              "      <script>\n",
              "        const buttonEl =\n",
              "          document.querySelector('#df-cf604689-d6bb-42a9-9347-31247aa2d365 button.colab-df-convert');\n",
              "        buttonEl.style.display =\n",
              "          google.colab.kernel.accessAllowed ? 'block' : 'none';\n",
              "\n",
              "        async function convertToInteractive(key) {\n",
              "          const element = document.querySelector('#df-cf604689-d6bb-42a9-9347-31247aa2d365');\n",
              "          const dataTable =\n",
              "            await google.colab.kernel.invokeFunction('convertToInteractive',\n",
              "                                                     [key], {});\n",
              "          if (!dataTable) return;\n",
              "\n",
              "          const docLinkHtml = 'Like what you see? Visit the ' +\n",
              "            '<a target=\"_blank\" href=https://colab.research.google.com/notebooks/data_table.ipynb>data table notebook</a>'\n",
              "            + ' to learn more about interactive tables.';\n",
              "          element.innerHTML = '';\n",
              "          dataTable['output_type'] = 'display_data';\n",
              "          await google.colab.output.renderOutput(dataTable, element);\n",
              "          const docLink = document.createElement('div');\n",
              "          docLink.innerHTML = docLinkHtml;\n",
              "          element.appendChild(docLink);\n",
              "        }\n",
              "      </script>\n",
              "    </div>\n",
              "  </div>\n",
              "  "
            ]
          },
          "metadata": {},
          "execution_count": 37
        }
      ]
    },
    {
      "cell_type": "code",
      "source": [
        "# Save the polarity column as 'n'.\n",
        "\n",
        "n=sentiment_df[\"polarity\"]\n",
        "\n",
        "# Convert this column into a series, 'm'.\n",
        "\n",
        "m=pd.Series(n)\n",
        "\n",
        "m"
      ],
      "metadata": {
        "colab": {
          "base_uri": "https://localhost:8080/"
        },
        "id": "oxg3s1LYw9lF",
        "outputId": "195a6ca2-5573-42be-996a-3e9018076288"
      },
      "execution_count": null,
      "outputs": [
        {
          "output_type": "execute_result",
          "data": {
            "text/plain": [
              "0     0.350000\n",
              "1     0.300000\n",
              "2     0.350000\n",
              "3     0.477778\n",
              "4     0.000000\n",
              "        ...   \n",
              "92    0.250000\n",
              "93    0.000000\n",
              "94    0.350000\n",
              "95   -0.095833\n",
              "96    0.112500\n",
              "Name: polarity, Length: 97, dtype: float64"
            ]
          },
          "metadata": {},
          "execution_count": 38
        }
      ]
    },
    {
      "cell_type": "code",
      "source": [
        "# Initialize variables, 'pos', 'neg', 'neu'.\n",
        "\n",
        "pos=0\n",
        "neg=0\n",
        "neu=0\n",
        "\n",
        "# Create a loop to classify the tweets as Positive, Negative, or Neutral.\n",
        "# Count the number of each.\n",
        "\n",
        "for items in m:\n",
        "    if items>0:\n",
        "        print(\"Positive\")\n",
        "        pos=pos+1\n",
        "    elif items<0:\n",
        "        print(\"Negative\")\n",
        "        neg=neg+1\n",
        "    else:\n",
        "        print(\"Neutral\")\n",
        "        neu=neu+1\n",
        "\n",
        "print(pos,neg,neu)"
      ],
      "metadata": {
        "colab": {
          "base_uri": "https://localhost:8080/"
        },
        "id": "wPshaNZ4xK-Z",
        "outputId": "ffeecf9f-2224-4dce-e0e0-5ef19a916c88"
      },
      "execution_count": null,
      "outputs": [
        {
          "output_type": "stream",
          "name": "stdout",
          "text": [
            "Positive\n",
            "Positive\n",
            "Positive\n",
            "Positive\n",
            "Neutral\n",
            "Neutral\n",
            "Positive\n",
            "Positive\n",
            "Positive\n",
            "Positive\n",
            "Negative\n",
            "Positive\n",
            "Negative\n",
            "Positive\n",
            "Positive\n",
            "Neutral\n",
            "Positive\n",
            "Positive\n",
            "Positive\n",
            "Positive\n",
            "Positive\n",
            "Neutral\n",
            "Positive\n",
            "Positive\n",
            "Neutral\n",
            "Positive\n",
            "Negative\n",
            "Neutral\n",
            "Neutral\n",
            "Neutral\n",
            "Positive\n",
            "Positive\n",
            "Positive\n",
            "Positive\n",
            "Positive\n",
            "Positive\n",
            "Positive\n",
            "Positive\n",
            "Negative\n",
            "Positive\n",
            "Negative\n",
            "Positive\n",
            "Positive\n",
            "Positive\n",
            "Positive\n",
            "Negative\n",
            "Positive\n",
            "Neutral\n",
            "Negative\n",
            "Neutral\n",
            "Positive\n",
            "Positive\n",
            "Positive\n",
            "Positive\n",
            "Positive\n",
            "Positive\n",
            "Positive\n",
            "Neutral\n",
            "Positive\n",
            "Positive\n",
            "Neutral\n",
            "Positive\n",
            "Positive\n",
            "Neutral\n",
            "Positive\n",
            "Positive\n",
            "Positive\n",
            "Positive\n",
            "Positive\n",
            "Positive\n",
            "Positive\n",
            "Positive\n",
            "Negative\n",
            "Neutral\n",
            "Positive\n",
            "Positive\n",
            "Negative\n",
            "Positive\n",
            "Positive\n",
            "Positive\n",
            "Positive\n",
            "Negative\n",
            "Positive\n",
            "Negative\n",
            "Positive\n",
            "Positive\n",
            "Positive\n",
            "Positive\n",
            "Neutral\n",
            "Negative\n",
            "Neutral\n",
            "Neutral\n",
            "Positive\n",
            "Neutral\n",
            "Positive\n",
            "Negative\n",
            "Positive\n",
            "66 13 18\n"
          ]
        }
      ]
    },
    {
      "cell_type": "code",
      "source": [
        "pieLabels=[\"Positive\",\"Negative\",\"Neutral\"]\n",
        "\n",
        "populationShare=[pos,neg,neu]\n",
        "\n",
        "figureObject, axesObject = plt.subplots()\n",
        "\n",
        "axesObject.pie(populationShare,labels=pieLabels,autopct='%1.2f',startangle=90)\n",
        "\n",
        "axesObject.axis('equal')\n",
        "\n",
        "plt.show()"
      ],
      "metadata": {
        "colab": {
          "base_uri": "https://localhost:8080/",
          "height": 248
        },
        "id": "7CqO-A91xS0Q",
        "outputId": "6fc92e6f-f5a9-43fb-9310-52884c62db7a"
      },
      "execution_count": null,
      "outputs": [
        {
          "output_type": "display_data",
          "data": {
            "text/plain": [
              "<Figure size 432x288 with 1 Axes>"
            ],
            "image/png": "[encoded data removed]"
          },
          "metadata": {}
        }
      ]
    },
    {
      "cell_type": "code",
      "source": [
        "# Display the number of twitter users who feel a certain way about the given topic.\n",
        "\n",
        "print(\"%f percent of twitter users feel positive about %s\"%(pos,query))\n",
        "\n",
        "print(\"%f percent of twitter users feel negative about %s\"%(neg,query))\n",
        "\n",
        "print(\"%f percent of twitter users feel neutral about %s\"%(neu,query))"
      ],
      "metadata": {
        "id": "8jtPnf3Gy0Yp"
      },
      "execution_count": null,
      "outputs": []
    },
    {
      "cell_type": "code",
      "source": [
        "# Create a Wordcloud from the tweets\n",
        "\n",
        "all_words = ' '.join([text for text in cleaned])\n",
        "wordcloud = WordCloud(width=800, height=500, random_state=21, max_font_size=110).generate(all_words)\n",
        "\n",
        "plt.figure(figsize=(10, 7))\n",
        "plt.imshow(wordcloud, interpolation=\"bilinear\")\n",
        "plt.axis('off')\n",
        "plt.show()"
      ],
      "metadata": {
        "colab": {
          "base_uri": "https://localhost:8080/",
          "height": 380
        },
        "id": "kBGkz66vy5UY",
        "outputId": "5e1265f7-6b18-4e86-88fb-412c87e55c3b"
      },
      "execution_count": null,
      "outputs": [
        {
          "output_type": "display_data",
          "data": {
            "text/plain": [
              "<Figure size 720x504 with 1 Axes>"
            ],
            "image/png": "[encoded data removed]"
          },
          "metadata": {
            "needs_background": "light"
          }
        }
      ]
    },
    {
      "cell_type": "code",
      "source": [],
      "metadata": {
        "id": "c536WIKDz8cC"
      },
      "execution_count": null,
      "outputs": []
    },
    {
      "cell_type": "markdown",
      "source": [
        "# Sentiment Analysis (through Scraping) - Data Mining"
      ],
      "metadata": {
        "id": "02gGcsBn0B5v"
      }
    },
    {
      "cell_type": "code",
      "source": [
        "!pip install snscrape\n",
        "from datetime import date\n",
        "import snscrape.modules.twitter as sntwitter\n",
        "import pandas as pd\n",
        "import numpy as np\n",
        "from textblob import TextBlob\n",
        "from wordcloud import WordCloud\n",
        "import re\n",
        "import matplotlib.pyplot as plt\n",
        "import seaborn as sns\n",
        "plt.style.use('fivethirtyeight')\n",
        "import nltk\n",
        "from nltk.stem.snowball import SnowballStemmer\n",
        "from nltk.corpus import stopwords\n",
        "import spacy\n",
        "nlp = spacy.load(\"en_core_web_sm\")"
      ],
      "metadata": {
        "id": "YlUNFvGC0G96"
      },
      "execution_count": null,
      "outputs": []
    },
    {
      "cell_type": "code",
      "source": [
        "tweets_list = []\n",
        "maxTweets = 1000\n",
        "# Using TwitterSearchScraper to scrape data and append tweets to list\n",
        "for i,tweet in enumerate(sntwitter.TwitterSearchScraper('Covid since:2022-01-01 until:{today}').get_items()):\n",
        "    if i>maxTweets:\n",
        "        break\n",
        "    tweets_list.append([tweet.content])\n",
        "\n",
        "# Creating a dataframe from the tweets list above\n",
        "tweets_to_df = pd.DataFrame(tweets_list, columns=['Tweets'])\n",
        "tweets_to_df.shape"
      ],
      "metadata": {
        "id": "5GUD_7ej0sIT"
      },
      "execution_count": null,
      "outputs": []
    },
    {
      "cell_type": "code",
      "source": [
        "tweets_to_df.head() #lists first five tweets"
      ],
      "metadata": {
        "id": "3RsebFcl1DOz"
      },
      "execution_count": null,
      "outputs": []
    },
    {
      "cell_type": "code",
      "source": [
        "#clean the tweets with a function\n",
        "def cleanTweets(text):\n",
        "    text = re.sub('@[A-Za-z0-9_]+', '', text) #removes @mentions\n",
        "    text = re.sub('#','',text) #removes hastag '#' symbol\n",
        "    text = re.sub('RT[\\s]+','',text)\n",
        "    text = re.sub('https?:\\/\\/\\S+', '', text)\n",
        "    text = re.sub('\\n',' ',text)\n",
        "    return text\n",
        "tweets_to_df['cleanedTweets'] = tweets_to_df['Tweets'].apply(cleanTweets) #apply cleanTweet function to the tweet\n",
        "tweets_to_df.head() #compares original tweets with cleaned Tweets"
      ],
      "metadata": {
        "id": "Gw4pjxpt1dkJ"
      },
      "execution_count": null,
      "outputs": []
    },
    {
      "cell_type": "code",
      "source": [
        "tweets_to_df.to_csv('tweets_covid.csv') #write dataframe into csv file\n",
        "savedTweets = pd.read_csv('tweets_covid.csv',index_col=0) #reads csv file"
      ],
      "metadata": {
        "id": "iJmK93L01tqN"
      },
      "execution_count": null,
      "outputs": []
    },
    {
      "cell_type": "code",
      "source": [
        "#get subjectivity and polarity of tweets with a function\n",
        "def getSubjectivity(text):\n",
        "    return TextBlob(text).sentiment.subjectivity\n",
        "#get polarity with a function\n",
        "def getPolarity(text):\n",
        "    return TextBlob(text).sentiment.polarity\n",
        "savedTweets['Subjectivity'] = savedTweets['cleanedTweets'].apply(getSubjectivity)\n",
        "savedTweets['Polarity'] = savedTweets['cleanedTweets'].apply(getPolarity)\n",
        "savedTweets.drop('Tweets', axis=1).head() #shows polarity and subjectivity of each tweet and drops the uncleaned tweets column"
      ],
      "metadata": {
        "id": "IiAUdOwr2EZo"
      },
      "execution_count": null,
      "outputs": []
    },
    {
      "cell_type": "code",
      "source": [
        "#create a function to check negative, neutral and positive analysis\n",
        "def getAnalysis(score):\n",
        "    if score<0:\n",
        "        return 'Negative'\n",
        "    elif score ==0:\n",
        "        return 'Neutral'\n",
        "    else:\n",
        "        return 'Positive'\n",
        "\n",
        "savedTweets['Analysis'] = savedTweets['Polarity'].apply(getAnalysis)"
      ],
      "metadata": {
        "id": "IsBk_jCQ2RJt"
      },
      "execution_count": null,
      "outputs": []
    },
    {
      "cell_type": "code",
      "source": [
        "savedTweets['Analysis'].value_counts() #shows the counts of tweets' polarity"
      ],
      "metadata": {
        "id": "l_k_p8mE2WQC"
      },
      "execution_count": null,
      "outputs": []
    },
    {
      "cell_type": "code",
      "source": [
        "#plot a bar graph to show count of tweet sentiment\n",
        "fig = plt.figure(figsize=(7,5))\n",
        "color = ['green','grey','red']\n",
        "savedTweets['Analysis'].value_counts().plot(kind='bar',color = color)\n",
        "plt.title('Value count of tweet polarity')\n",
        "plt.ylabel('Count')\n",
        "plt.xlabel('Polarity')\n",
        "plt.grid(False)\n",
        "plt.show()"
      ],
      "metadata": {
        "id": "WEYzorbC2ezW"
      },
      "execution_count": null,
      "outputs": []
    },
    {
      "cell_type": "code",
      "source": [
        "#pie chart to show percentage distribution of polarity\n",
        "fig = plt.figure(figsize=(7,7))\n",
        "colors = ('green', 'grey', 'red')\n",
        "wp={'linewidth':2, 'edgecolor': 'black'}\n",
        "tags=savedTweets['Analysis'].value_counts()\n",
        "explode = (0.1,0.1,0.1)\n",
        "tags.plot(kind='pie', autopct='%1.1f%%', shadow=True, colors=colors,\n",
        "         startangle=90, wedgeprops=wp, explode=explode, label='')\n",
        "plt.title('Distribution of polarity')"
      ],
      "metadata": {
        "id": "W5CRRcjq2ljv"
      },
      "execution_count": null,
      "outputs": []
    },
    {
      "cell_type": "code",
      "source": [
        "#plot the polarity and subjectivity on a scatter plot\n",
        "plt.figure(figsize=(9,7))\n",
        "for i in range(0,savedTweets.shape[0]):\n",
        "    plt.scatter(savedTweets['Polarity'][i],savedTweets['Subjectivity'][i], color='blue')\n",
        "plt.title('Sentiment Analysis')\n",
        "plt.xlabel('Polarity')\n",
        "plt.ylabel('Subjectivity')\n",
        "plt.show()"
      ],
      "metadata": {
        "id": "cBFwy8K42-g0"
      },
      "execution_count": null,
      "outputs": []
    },
    {
      "cell_type": "code",
      "source": [
        "#create a function for wordcloud\n",
        "def create_wordcloud(text):\n",
        "    allWords = ' '.join([tweets for tweets in text])\n",
        "    wordCloud = WordCloud(background_color='white', width=800, height=500, random_state=21, max_font_size=130).generate(allWords)\n",
        "    plt.figure(figsize=(20,10))\n",
        "    plt.imshow(wordCloud)\n",
        "    plt.axis('off')\n",
        "    plt.show()\n",
        "#wordcloud for positive tweets\n",
        "posTweets = savedTweets.loc[savedTweets['Analysis']=='Positive', 'cleanedTweets']\n",
        "create_wordcloud(posTweets)\n",
        "#wordcloud for negative tweets\n",
        "negTweets = savedTweets.loc[savedTweets['Analysis']=='Negative', 'cleanedTweets']\n",
        "create_wordcloud(negTweets)"
      ],
      "metadata": {
        "id": "dAiJksLv3Hiu"
      },
      "execution_count": null,
      "outputs": []
    },
    {
      "cell_type": "code",
      "source": [
        "#break each tweet sentence into words\n",
        "sentences = []\n",
        "for word in savedTweets['cleanedTweets']:\n",
        "    sentences.append(word)\n",
        "sentences\n",
        "lines = list()\n",
        "for line in sentences:\n",
        "    words = line.split()\n",
        "    for w in words:\n",
        "        lines.append(w)\n",
        "lines[:10] #shows first 10 words in the first tweet"
      ],
      "metadata": {
        "id": "WzqqY3Qi4bXt"
      },
      "execution_count": null,
      "outputs": []
    },
    {
      "cell_type": "code",
      "source": [
        "#stemming all the words to their root word\n",
        "stemmer = SnowballStemmer(language='english')\n",
        "stem=[]\n",
        "for word in lines:\n",
        "    stem.append(stemmer.stem(word))\n",
        "stem[:20]\n",
        "#removes stopwords (very common words in a sentence)\n",
        "stem2 = []\n",
        "for word in stem:\n",
        "    if word not in nlp.Defaults.stop_words:\n",
        "        stem2.append(word)\n",
        "#creates a new dataframe for the stem and shows the count of the most used words\n",
        "df = pd.DataFrame(stem2)\n",
        "df=df[0].value_counts()\n",
        "df #shows the new dataframe"
      ],
      "metadata": {
        "id": "omT0r5Vn4sKE"
      },
      "execution_count": null,
      "outputs": []
    },
    {
      "cell_type": "code",
      "source": [
        "#plots the top 20 used words\n",
        "df = df[:20]\n",
        "plt.figure(figsize=(10,5))\n",
        "sns.barplot(df.values, df.index, alpha=0.8)\n",
        "plt.title('Top Words Overall')\n",
        "plt.xlabel('Count of words', fontsize=12)\n",
        "plt.ylabel('Word from Tweet', fontsize=12)\n",
        "plt.show()"
      ],
      "metadata": {
        "id": "fb1QCSg747Wq"
      },
      "execution_count": null,
      "outputs": []
    },
    {
      "cell_type": "markdown",
      "source": [
        "\n",
        "\n",
        "```\n",
        "# Random Stuff\n",
        "```\n",
        "\n",
        "# Random Stuff"
      ],
      "metadata": {
        "id": "v6dO_5sW7Esv"
      }
    },
    {
      "cell_type": "code",
      "source": [
        "# This code allows you to get a users timeline\n",
        "# Replace user ID\n",
        "# id = '2244994945'\n",
        "# Elon Musk is 44196397\n",
        "id = '44196397'\n",
        "# https://www.codeofaninja.com/tools/find-twitter-id/#:~:text=How%20to%20use%3F&text=Put%20your%20username%20(without%20%40%20sign,appear%20in%20the%20green%20box\n",
        "\n",
        "tweets = client.get_users_tweets(id=id, tweet_fields=['context_annotations','created_at','geo'])\n",
        "\n",
        "for tweet in tweets.data:\n",
        "    print(tweet)"
      ],
      "metadata": {
        "id": "lnd36si97JnO"
      },
      "execution_count": null,
      "outputs": []
    },
    {
      "cell_type": "code",
      "source": [
        "# Counts for a query\n",
        "# Replace with your own search query\n",
        "query = 'covid -is:retweet'\n",
        "\n",
        "counts = client.get_recent_tweets_count(query=query, granularity='day')\n",
        "\n",
        "for count in counts.data:\n",
        "    print(count)"
      ],
      "metadata": {
        "id": "l70d8yHS7kQ1"
      },
      "execution_count": null,
      "outputs": []
    },
    {
      "cell_type": "code",
      "source": [
        "# Get the Twitter IDs of the followers of a user\n",
        "\n",
        "# Replace user ID\n",
        "id = '44196397'\n",
        "\n",
        "users = client.get_users_followers(id=id, user_fields=['profile_image_url'])\n",
        "\n",
        "for user in users.data:\n",
        "    print(user.id)"
      ],
      "metadata": {
        "id": "c-TJMrFP77YR"
      },
      "execution_count": null,
      "outputs": []
    },
    {
      "cell_type": "code",
      "source": [
        "# Who is Elon Musk Following\n",
        "# Replace user ID\n",
        "id = '44196397'\n",
        "\n",
        "users = client.get_users_following(id=id, user_fields=['profile_image_url'])\n",
        "\n",
        "for user in users.data:\n",
        "    print(user.id)"
      ],
      "metadata": {
        "id": "QL3r6iDx8Z_c"
      },
      "execution_count": null,
      "outputs": []
    },
    {
      "cell_type": "code",
      "source": [
        "# Who like a tweet based on the tweet ID\n",
        "# Replace Tweet ID\n",
        "id = '1441054496931541004'\n",
        "\n",
        "users = client.get_liking_users(id=id, user_fields=['profile_image_url'])\n",
        "\n",
        "for user in users.data:\n",
        "    print(user)"
      ],
      "metadata": {
        "id": "sdrVgAUD8n8S"
      },
      "execution_count": null,
      "outputs": []
    },
    {
      "cell_type": "code",
      "source": [
        "#Who retweet a tweet based on tweet id\n",
        "# Replace Tweet ID\n",
        "id = '1441054496931541004'\n",
        "\n",
        "users = client.get_retweeters(id=id, user_fields=['profile_image_url'])\n",
        "\n",
        "for user in users.data:\n",
        "    print(user)"
      ],
      "metadata": {
        "id": "2AxleByP8yRo"
      },
      "execution_count": null,
      "outputs": []
    },
    {
      "cell_type": "code",
      "source": [
        "# Give me all of the tweets that a user liked\n",
        "# Replace User ID\n",
        "id = '44196397'\n",
        "\n",
        "tweets = client.get_liked_tweets(id=id, tweet_fields=['context_annotations','created_at','geo'])\n",
        "\n",
        "for tweet in tweets.data:\n",
        "    print(tweet)"
      ],
      "metadata": {
        "id": "yA9Qeh3w8-H6"
      },
      "execution_count": null,
      "outputs": []
    },
    {
      "cell_type": "code",
      "source": [
        "# Look up users by twitter ID\n",
        "# Replace User IDs\n",
        "ids = ['44196397']\n",
        "\n",
        "users = client.get_users(ids=ids, user_fields=['profile_image_url'])\n",
        "\n",
        "for user in users.data:\n",
        "    print(user.profile_image_url)\n",
        "for user in users.data:\n",
        "    print(user)"
      ],
      "metadata": {
        "id": "zGkUWOJV9Lzg"
      },
      "execution_count": null,
      "outputs": []
    }
  ]
}